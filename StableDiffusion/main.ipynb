{
 "cells": [
  {
   "cell_type": "markdown",
   "metadata": {},
   "source": [
    "<h1>\n",
    "<hr style=\" border:none; height:3px;\">\n",
    "<center>Main Workflow - Seamless Stable Diffusion CS</center>\n",
    "<hr style=\" border:none; height:3px;\">\n",
    "</h1>\n",
    "\n",
    "<center><img src='https://netacad.centralesupelec.fr/img/cs.jpg' width=200></center>\n",
    "\n",
    "<h4><center>Louis LHOTTE | Clément VERON | Edouard SEGUIER</center></h4>"
   ]
  },
  {
   "cell_type": "markdown",
   "metadata": {},
   "source": [
    "# Computer Vision & specific region modification"
   ]
  },
  {
   "cell_type": "code",
   "execution_count": 2,
   "metadata": {},
   "outputs": [],
   "source": [
    "from PIL import Image\n",
    "import numpy as np\n",
    "import cv2"
   ]
  },
  {
   "cell_type": "markdown",
   "metadata": {},
   "source": [
    "<div class=\"alert alert-block alert-info\"> The idea is to improve LEdits++ performance by splitting the prompts on foreground and background, and then reaggregate them further, enabling us to make higher-quality image. If this option was possible, this would open countless possibilities of further development (layers modification, region with clustering modification, etc...)</div>"
   ]
  },
  {
   "cell_type": "code",
   "execution_count": 4,
   "metadata": {},
   "outputs": [
    {
     "data": {
      "text/plain": [
       "True"
      ]
     },
     "execution_count": 4,
     "metadata": {},
     "output_type": "execute_result"
    }
   ],
   "source": [
    "def segment_foreground_background(image_path):\n",
    "    image = cv2.imread(image_path)\n",
    "    gray = cv2.cvtColor(image, cv2.COLOR_BGR2GRAY)\n",
    "    _, mask = cv2.threshold(gray, 0, 255, cv2.THRESH_BINARY + cv2.THRESH_OTSU)\n",
    "    foreground = cv2.bitwise_and(image, image, mask=mask)\n",
    "    background = cv2.bitwise_and(image, image, mask=cv2.bitwise_not(mask))\n",
    "    return foreground, background\n",
    "\n",
    "foreground, background = segment_foreground_background(\"Landscape.png\")\n",
    "cv2.imwrite(\"foreground.png\", foreground)\n",
    "cv2.imwrite(\"background.png\", background)"
   ]
  },
  {
   "cell_type": "markdown",
   "metadata": {},
   "source": [
    "# Re-Aggregation of foreground & background"
   ]
  },
  {
   "cell_type": "markdown",
   "metadata": {},
   "source": [
    "<div class=\"alert alert-block alert-info\"> This step has the advantage of being highly <b>feasible</b> as it the re-aggregation part is seemingly very fast and as long as there is no major change, the quality of the image is not degraded. It would allow artists and users to best use their creativity without breaking their previous achieved milestones (very common issue in stable diffusion or GANs).</div>"
   ]
  },
  {
   "cell_type": "code",
   "execution_count": null,
   "metadata": {},
   "outputs": [
    {
     "data": {
      "text/plain": [
       "True"
      ]
     },
     "execution_count": 5,
     "metadata": {},
     "output_type": "execute_result"
    }
   ],
   "source": [
    "def reaggregate_foreground_background(foreground, background):\n",
    "    return cv2.add(foreground, background)\n",
    "\n",
    "foreground = cv2.imread(\"foreground.png\")\n",
    "background = cv2.imread(\"m_background.png\")\n",
    "reaggregated_image = reaggregate_foreground_background(foreground, background)\n",
    "cv2.imwrite(\"original_reaggragated_version.png\", reaggregated_image)"
   ]
  },
  {
   "cell_type": "markdown",
   "metadata": {},
   "source": [
    "However, the image lost quality so we need to upscale it again"
   ]
  },
  {
   "cell_type": "markdown",
   "metadata": {},
   "source": [
    "# Upscaling"
   ]
  },
  {
   "cell_type": "code",
   "execution_count": 8,
   "metadata": {},
   "outputs": [
    {
     "data": {
      "text/plain": [
       "True"
      ]
     },
     "execution_count": 8,
     "metadata": {},
     "output_type": "execute_result"
    }
   ],
   "source": [
    "def upscale_image(image_path, scale_factor=2):\n",
    "    image = cv2.imread(image_path)\n",
    "    width = int(image.shape[1] * scale_factor)\n",
    "    height = int(image.shape[0] * scale_factor)\n",
    "    upscaled_image = cv2.resize(image, (width, height), interpolation=cv2.INTER_CUBIC)\n",
    "    return upscaled_image\n",
    "\n",
    "upscaled_image = upscale_image(\"reaggregated_image.png\", scale_factor=2)\n",
    "cv2.imwrite(\"upscaled_reaggregated_image.png\", upscaled_image)"
   ]
  }
 ],
 "metadata": {
  "kernelspec": {
   "display_name": "Python 3",
   "language": "python",
   "name": "python3"
  },
  "language_info": {
   "codemirror_mode": {
    "name": "ipython",
    "version": 3
   },
   "file_extension": ".py",
   "mimetype": "text/x-python",
   "name": "python",
   "nbconvert_exporter": "python",
   "pygments_lexer": "ipython3",
   "version": "3.11.7"
  }
 },
 "nbformat": 4,
 "nbformat_minor": 2
}
