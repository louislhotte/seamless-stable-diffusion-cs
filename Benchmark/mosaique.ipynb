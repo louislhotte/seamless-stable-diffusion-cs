{
 "cells": [
  {
   "cell_type": "code",
   "execution_count": 8,
   "metadata": {},
   "outputs": [],
   "source": [
    "import os\n",
    "import cv2\n",
    "import numpy as np\n",
    "from PIL import Image\n",
    "\n",
    "# Configuration\n",
    "IMAGE_FOLDER = \"C:\\\\Users\\\\Louis\\\\Desktop\\\\img\"  # Folder containing your images\n",
    "OUTPUT_IMAGE = \"lhotte.jpg\"  # Final output file\n",
    "COLUMNS = 5  # Number of images per row\n",
    "IMAGE_SIZE = 250  # Resize images to a square of this size (adjust as needed)\n",
    "\n",
    "# Load images\n",
    "image_files = [os.path.join(IMAGE_FOLDER, f) for f in os.listdir(IMAGE_FOLDER) if f.endswith(('jpg', 'png', 'jpeg'))]"
   ]
  },
  {
   "cell_type": "code",
   "execution_count": 10,
   "metadata": {},
   "outputs": [
    {
     "name": "stdout",
     "output_type": "stream",
     "text": [
      "['C:\\\\Users\\\\Louis\\\\Desktop\\\\img\\\\best_00001.png', 'C:\\\\Users\\\\Louis\\\\Desktop\\\\img\\\\best_00009_.png', 'C:\\\\Users\\\\Louis\\\\Desktop\\\\img\\\\best_00013_.png', 'C:\\\\Users\\\\Louis\\\\Desktop\\\\img\\\\best_00016_.png', 'C:\\\\Users\\\\Louis\\\\Desktop\\\\img\\\\best_00017_.png', 'C:\\\\Users\\\\Louis\\\\Desktop\\\\img\\\\best_00022_.png', 'C:\\\\Users\\\\Louis\\\\Desktop\\\\img\\\\best_00026_.png', 'C:\\\\Users\\\\Louis\\\\Desktop\\\\img\\\\best_00028_.png', 'C:\\\\Users\\\\Louis\\\\Desktop\\\\img\\\\best_00030_.png', 'C:\\\\Users\\\\Louis\\\\Desktop\\\\img\\\\best_00032_.png', 'C:\\\\Users\\\\Louis\\\\Desktop\\\\img\\\\best_00033_.png', 'C:\\\\Users\\\\Louis\\\\Desktop\\\\img\\\\best_00034_.png', 'C:\\\\Users\\\\Louis\\\\Desktop\\\\img\\\\best_00035_.png', 'C:\\\\Users\\\\Louis\\\\Desktop\\\\img\\\\best_00036_.png', 'C:\\\\Users\\\\Louis\\\\Desktop\\\\img\\\\best_00037_.png', 'C:\\\\Users\\\\Louis\\\\Desktop\\\\img\\\\best_00041_.png', 'C:\\\\Users\\\\Louis\\\\Desktop\\\\img\\\\best_00044_.png', 'C:\\\\Users\\\\Louis\\\\Desktop\\\\img\\\\best_00045_.png', 'C:\\\\Users\\\\Louis\\\\Desktop\\\\img\\\\best_00048_.png', 'C:\\\\Users\\\\Louis\\\\Desktop\\\\img\\\\best_00049_.png', 'C:\\\\Users\\\\Louis\\\\Desktop\\\\img\\\\best_00050_.png', 'C:\\\\Users\\\\Louis\\\\Desktop\\\\img\\\\best_00052_.png', 'C:\\\\Users\\\\Louis\\\\Desktop\\\\img\\\\best_00054_.png', 'C:\\\\Users\\\\Louis\\\\Desktop\\\\img\\\\best_00055_.png']\n"
     ]
    }
   ],
   "source": [
    "print(image_files)"
   ]
  },
  {
   "cell_type": "code",
   "execution_count": 11,
   "metadata": {},
   "outputs": [
    {
     "name": "stdout",
     "output_type": "stream",
     "text": [
      "Mosaic saved as lhotte.jpg\n"
     ]
    }
   ],
   "source": [
    "# Calculate number of rows needed\n",
    "rows = (len(image_files) + COLUMNS - 1) // COLUMNS\n",
    "\n",
    "# Resize images\n",
    "images = [cv2.resize(cv2.imread(img), (IMAGE_SIZE, IMAGE_SIZE)) for img in image_files]\n",
    "\n",
    "# Create blank canvas\n",
    "mosaic_height = rows * IMAGE_SIZE\n",
    "mosaic_width = COLUMNS * IMAGE_SIZE\n",
    "mosaic = np.zeros((mosaic_height, mosaic_width, 3), dtype=np.uint8)\n",
    "\n",
    "# Place images in the grid\n",
    "for idx, img in enumerate(images):\n",
    "    row = idx // COLUMNS\n",
    "    col = idx % COLUMNS\n",
    "    if row >= rows:\n",
    "        break\n",
    "    mosaic[row * IMAGE_SIZE:(row + 1) * IMAGE_SIZE, col * IMAGE_SIZE:(col + 1) * IMAGE_SIZE] = img\n",
    "\n",
    "# Save the mosaic\n",
    "cv2.imwrite(OUTPUT_IMAGE, mosaic)\n",
    "print(f\"Mosaic saved as {OUTPUT_IMAGE}\")"
   ]
  },
  {
   "cell_type": "code",
   "execution_count": null,
   "metadata": {},
   "outputs": [],
   "source": []
  }
 ],
 "metadata": {
  "kernelspec": {
   "display_name": "Python 3",
   "language": "python",
   "name": "python3"
  },
  "language_info": {
   "codemirror_mode": {
    "name": "ipython",
    "version": 3
   },
   "file_extension": ".py",
   "mimetype": "text/x-python",
   "name": "python",
   "nbconvert_exporter": "python",
   "pygments_lexer": "ipython3",
   "version": "3.11.7"
  }
 },
 "nbformat": 4,
 "nbformat_minor": 2
}
