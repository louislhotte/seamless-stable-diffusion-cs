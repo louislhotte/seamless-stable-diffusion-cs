{
 "cells": [
  {
   "cell_type": "code",
   "execution_count": 20,
   "metadata": {},
   "outputs": [],
   "source": [
    "import os\n",
    "import cv2\n",
    "import numpy as np\n",
    "from PIL import Image\n",
    "\n",
    "# Configuration\n",
    "IMAGE_FOLDER = \"C:\\\\Users\\\\Louis\\\\Desktop\\\\ComfyUI\\\\output\"  # Folder containing your images\n",
    "OUTPUT_IMAGE = \"lhotte.jpg\"  # Final output file\n",
    "COLUMNS = 10  # Number of images per row\n",
    "IMAGE_SIZE = 250  # Resize images to a square of this size (adjust as needed)\n",
    "\n",
    "# Load images\n",
    "image_files = [os.path.join(IMAGE_FOLDER, f) for f in os.listdir(IMAGE_FOLDER) if f.endswith(('jpg', 'png', 'jpeg')) and 'Lhotte' in f]"
   ]
  },
  {
   "cell_type": "code",
   "execution_count": 21,
   "metadata": {},
   "outputs": [
    {
     "name": "stdout",
     "output_type": "stream",
     "text": [
      "['C:\\\\Users\\\\Louis\\\\Desktop\\\\ComfyUI\\\\output\\\\D8 Lhotte v3_00001_.png', 'C:\\\\Users\\\\Louis\\\\Desktop\\\\ComfyUI\\\\output\\\\D8 Lhotte v3_00002_.png', 'C:\\\\Users\\\\Louis\\\\Desktop\\\\ComfyUI\\\\output\\\\D8 Lhotte v3_00003_.png', 'C:\\\\Users\\\\Louis\\\\Desktop\\\\ComfyUI\\\\output\\\\D8 Lhotte v3_00004_.png', 'C:\\\\Users\\\\Louis\\\\Desktop\\\\ComfyUI\\\\output\\\\D8 Lhotte v3_00005_.png', 'C:\\\\Users\\\\Louis\\\\Desktop\\\\ComfyUI\\\\output\\\\D8 Lhotte v3_00006_.png', 'C:\\\\Users\\\\Louis\\\\Desktop\\\\ComfyUI\\\\output\\\\D8 Lhotte v3_00007_.png', 'C:\\\\Users\\\\Louis\\\\Desktop\\\\ComfyUI\\\\output\\\\D8 Lhotte v3_00008_.png', 'C:\\\\Users\\\\Louis\\\\Desktop\\\\ComfyUI\\\\output\\\\D8 Lhotte v3_00009_.png', 'C:\\\\Users\\\\Louis\\\\Desktop\\\\ComfyUI\\\\output\\\\D8 Lhotte v3_00010_.png', 'C:\\\\Users\\\\Louis\\\\Desktop\\\\ComfyUI\\\\output\\\\D8 Lhotte v3_00011_.png', 'C:\\\\Users\\\\Louis\\\\Desktop\\\\ComfyUI\\\\output\\\\D8 Lhotte v3_00012_.png', 'C:\\\\Users\\\\Louis\\\\Desktop\\\\ComfyUI\\\\output\\\\D8 Lhotte v3_00013_.png', 'C:\\\\Users\\\\Louis\\\\Desktop\\\\ComfyUI\\\\output\\\\D8 Lhotte v3_00014_.png', 'C:\\\\Users\\\\Louis\\\\Desktop\\\\ComfyUI\\\\output\\\\D8 Lhotte v3_00015_.png', 'C:\\\\Users\\\\Louis\\\\Desktop\\\\ComfyUI\\\\output\\\\D8 Lhotte v3_00016_.png', 'C:\\\\Users\\\\Louis\\\\Desktop\\\\ComfyUI\\\\output\\\\D8 Lhotte v3_00017_.png', 'C:\\\\Users\\\\Louis\\\\Desktop\\\\ComfyUI\\\\output\\\\D8 Lhotte v3_00018_.png', 'C:\\\\Users\\\\Louis\\\\Desktop\\\\ComfyUI\\\\output\\\\D8 Lhotte v3_00019_.png', 'C:\\\\Users\\\\Louis\\\\Desktop\\\\ComfyUI\\\\output\\\\D8 Lhotte v3_00020_.png', 'C:\\\\Users\\\\Louis\\\\Desktop\\\\ComfyUI\\\\output\\\\D8 Lhotte v3_00021_.png', 'C:\\\\Users\\\\Louis\\\\Desktop\\\\ComfyUI\\\\output\\\\D8 Lhotte v3_00022_.png', 'C:\\\\Users\\\\Louis\\\\Desktop\\\\ComfyUI\\\\output\\\\D8 Lhotte v3_00023_.png', 'C:\\\\Users\\\\Louis\\\\Desktop\\\\ComfyUI\\\\output\\\\D8 Lhotte v3_00024_.png', 'C:\\\\Users\\\\Louis\\\\Desktop\\\\ComfyUI\\\\output\\\\Sd15 Lhotte v3_00001_.png', 'C:\\\\Users\\\\Louis\\\\Desktop\\\\ComfyUI\\\\output\\\\Sd15 Lhotte v3_00002_.png', 'C:\\\\Users\\\\Louis\\\\Desktop\\\\ComfyUI\\\\output\\\\Sd15 Lhotte v3_00003_.png', 'C:\\\\Users\\\\Louis\\\\Desktop\\\\ComfyUI\\\\output\\\\Sd15 Lhotte v3_00004_.png', 'C:\\\\Users\\\\Louis\\\\Desktop\\\\ComfyUI\\\\output\\\\Sd15 Lhotte v3_00005_.png', 'C:\\\\Users\\\\Louis\\\\Desktop\\\\ComfyUI\\\\output\\\\Sd15 Lhotte v3_00006_.png', 'C:\\\\Users\\\\Louis\\\\Desktop\\\\ComfyUI\\\\output\\\\Sd15 Lhotte v3_00007_.png', 'C:\\\\Users\\\\Louis\\\\Desktop\\\\ComfyUI\\\\output\\\\Sd15 Lhotte v3_00008_.png', 'C:\\\\Users\\\\Louis\\\\Desktop\\\\ComfyUI\\\\output\\\\Sd15 Lhotte v3_00009_.png', 'C:\\\\Users\\\\Louis\\\\Desktop\\\\ComfyUI\\\\output\\\\Sd15 Lhotte v3_00010_.png', 'C:\\\\Users\\\\Louis\\\\Desktop\\\\ComfyUI\\\\output\\\\Sd15 Lhotte v3_00011_.png', 'C:\\\\Users\\\\Louis\\\\Desktop\\\\ComfyUI\\\\output\\\\Sd15 Lhotte v3_00012_.png', 'C:\\\\Users\\\\Louis\\\\Desktop\\\\ComfyUI\\\\output\\\\Sd15 Lhotte v3_00013_.png', 'C:\\\\Users\\\\Louis\\\\Desktop\\\\ComfyUI\\\\output\\\\Sd15 Lhotte v3_00014_.png', 'C:\\\\Users\\\\Louis\\\\Desktop\\\\ComfyUI\\\\output\\\\Sd15 Lhotte v3_00015_.png', 'C:\\\\Users\\\\Louis\\\\Desktop\\\\ComfyUI\\\\output\\\\Sd15 Lhotte v3_00016_.png', 'C:\\\\Users\\\\Louis\\\\Desktop\\\\ComfyUI\\\\output\\\\Sd15 Lhotte v3_00017_.png', 'C:\\\\Users\\\\Louis\\\\Desktop\\\\ComfyUI\\\\output\\\\Sd15 Lhotte v3_00018_.png', 'C:\\\\Users\\\\Louis\\\\Desktop\\\\ComfyUI\\\\output\\\\Sd15 Lhotte v3_00019_.png', 'C:\\\\Users\\\\Louis\\\\Desktop\\\\ComfyUI\\\\output\\\\Sd15 Lhotte v3_00020_.png', 'C:\\\\Users\\\\Louis\\\\Desktop\\\\ComfyUI\\\\output\\\\Sd15 Lhotte v3_00021_.png', 'C:\\\\Users\\\\Louis\\\\Desktop\\\\ComfyUI\\\\output\\\\Sd15 Lhotte v3_00022_.png', 'C:\\\\Users\\\\Louis\\\\Desktop\\\\ComfyUI\\\\output\\\\Sd15 Lhotte v3_00023_.png', 'C:\\\\Users\\\\Louis\\\\Desktop\\\\ComfyUI\\\\output\\\\Sd15 Lhotte v3_00024_.png', 'C:\\\\Users\\\\Louis\\\\Desktop\\\\ComfyUI\\\\output\\\\Sd15 Lhotte v3_00025_.png']\n"
     ]
    }
   ],
   "source": [
    "print(image_files)"
   ]
  },
  {
   "cell_type": "code",
   "execution_count": 22,
   "metadata": {},
   "outputs": [
    {
     "name": "stdout",
     "output_type": "stream",
     "text": [
      "Mosaic saved as lhotte.jpg\n"
     ]
    }
   ],
   "source": [
    "# Calculate number of rows needed\n",
    "rows = (len(image_files) + COLUMNS - 1) // COLUMNS\n",
    "\n",
    "# Resize images\n",
    "images = [cv2.resize(cv2.imread(img), (IMAGE_SIZE, IMAGE_SIZE)) for img in image_files]\n",
    "\n",
    "# Create blank canvas\n",
    "mosaic_height = rows * IMAGE_SIZE\n",
    "mosaic_width = COLUMNS * IMAGE_SIZE\n",
    "mosaic = np.zeros((mosaic_height, mosaic_width, 3), dtype=np.uint8)\n",
    "\n",
    "# Place images in the grid\n",
    "for idx, img in enumerate(images):\n",
    "    row = idx // COLUMNS\n",
    "    col = idx % COLUMNS\n",
    "    if row >= rows:\n",
    "        break\n",
    "    mosaic[row * IMAGE_SIZE:(row + 1) * IMAGE_SIZE, col * IMAGE_SIZE:(col + 1) * IMAGE_SIZE] = img\n",
    "\n",
    "# Save the mosaic\n",
    "cv2.imwrite(OUTPUT_IMAGE, mosaic)\n",
    "print(f\"Mosaic saved as {OUTPUT_IMAGE}\")"
   ]
  },
  {
   "cell_type": "code",
   "execution_count": null,
   "metadata": {},
   "outputs": [],
   "source": []
  }
 ],
 "metadata": {
  "kernelspec": {
   "display_name": "Python 3",
   "language": "python",
   "name": "python3"
  },
  "language_info": {
   "codemirror_mode": {
    "name": "ipython",
    "version": 3
   },
   "file_extension": ".py",
   "mimetype": "text/x-python",
   "name": "python",
   "nbconvert_exporter": "python",
   "pygments_lexer": "ipython3",
   "version": "3.11.7"
  }
 },
 "nbformat": 4,
 "nbformat_minor": 2
}
