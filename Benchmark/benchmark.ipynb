{
 "cells": [
  {
   "cell_type": "markdown",
   "metadata": {},
   "source": [
    "<h1>\n",
    "<hr style=\" border:none; height:3px;\">\n",
    "<center>Benchmark pipeline</center>\n",
    "<hr style=\" border:none; height:3px;\">\n",
    "</h1>\n",
    "\n",
    "<center><img src='https://netacad.centralesupelec.fr/img/cs.jpg' width=200></center>\n",
    "\n",
    "<h4><center>Louis LHOTTE</center></h4>"
   ]
  },
  {
   "cell_type": "markdown",
   "metadata": {},
   "source": [
    "# Introduction\n",
    "<div style=\"background-color: #e3f2fd; padding: 15px; border-radius: 8px; border: 1px solid #81d4fa; display: flex; flex-direction: column; align-items: flex-start; max-width: 1125px;\">\n",
    "  <div style=\"display: flex; align-items: center; margin-bottom: 10px;\">\n",
    "    <img src=\"https://img.icons8.com/ios-filled/50/000000/info.png\" alt=\"info\" style=\"margin-right: 15px; width: 30px; height: 30px;\">\n",
    "    <span style=\"font-size: 16px; font-weight: bold; color: #01579b;\">Information:</span>\n",
    "  </div>\n",
    "  <p style=\"font-size: 14px; color: #01579b;\">\n",
    "    After generating two batches of 8 images with four different comfyUI workflows, the database was annotated by humans to score three values: <br>\n",
    "    - Logo Boolean Score (Yes/No)<br>\n",
    "    - Aesthetic score (0-10)<br>\n",
    "    - Business Score (0-10).<br><br>\n",
    "    Thereafter, the goal is to compare those scores and see if the human feedback is correlated with two additional scores - <b>CLIP score</b> to calculate similarity between prompt and image, or <b>LLM custom scores</b> (with GPT-4o as annotator) detailed in scientific papers - see notes<br>\n",
    "    For the record, the database was <b>NOT</b> annotated by myself, who generated the logo to avoid any bias.\n",
    "  </p>\n",
    "</div>\n"
   ]
  }
 ],
 "metadata": {
  "language_info": {
   "name": "python"
  }
 },
 "nbformat": 4,
 "nbformat_minor": 2
}
