{
 "cells": [
  {
   "cell_type": "markdown",
   "metadata": {},
   "source": [
    "<h1>\n",
    "<hr style=\" border:none; height:3px;\">\n",
    "<center>Benchmark pipeline</center>\n",
    "<hr style=\" border:none; height:3px;\">\n",
    "</h1>\n",
    "\n",
    "<center><img src='https://netacad.centralesupelec.fr/img/cs.jpg' width=200></center>\n",
    "\n",
    "<h4><center>Louis LHOTTE</center></h4>"
   ]
  },
  {
   "cell_type": "markdown",
   "metadata": {},
   "source": [
    "# Introduction\n",
    "<div style=\"background-color: #e3f2fd; padding: 15px; border-radius: 8px; border: 1px solid #81d4fa; display: flex; flex-direction: column; align-items: flex-start; max-width: 1125px;\">\n",
    "  <div style=\"display: flex; align-items: center; margin-bottom: 10px;\">\n",
    "    <img src=\"https://img.icons8.com/ios-filled/50/000000/info.png\" alt=\"info\" style=\"margin-right: 15px; width: 30px; height: 30px;\">\n",
    "    <span style=\"font-size: 16px; font-weight: bold; color: #01579b;\">Information:</span>\n",
    "  </div>\n",
    "  <p style=\"font-size: 14px; color: #01579b;\">\n",
    "    After generating two batches of 8 images with four different comfyUI workflows, the database was annotated by humans to score three values: <br>\n",
    "    - Logo Boolean Score (Yes/No)<br>\n",
    "    - Aesthetic score (0-10)<br>\n",
    "    - Business Score (0-10).<br><br>\n",
    "    Thereafter, the goal is to compare those scores and see if the human feedback is correlated with two additional scores - <b>CLIP score</b> to calculate similarity between prompt and image, or <b>LLM custom scores</b> (with GPT-4o as annotator) detailed in scientific papers - see notes<br>\n",
    "    For the record, the database was <b>NOT</b> annotated by myself, who generated the logo to avoid any bias.\n",
    "  </p>\n",
    "</div>\n"
   ]
  },
  {
   "cell_type": "markdown",
   "metadata": {},
   "source": [
    "# 0 - Imports"
   ]
  },
  {
   "cell_type": "code",
   "execution_count": 1,
   "metadata": {},
   "outputs": [],
   "source": [
    "import pandas as pd\n",
    "from __future__ import annotations\n",
    "import matplotlib.pyplot as plt\n",
    "import seaborn as sns"
   ]
  },
  {
   "cell_type": "markdown",
   "metadata": {},
   "source": [
    "# I - Human Scores"
   ]
  },
  {
   "cell_type": "markdown",
   "metadata": {},
   "source": [
    "## I.1 - Pre-processing"
   ]
  },
  {
   "cell_type": "code",
   "execution_count": 26,
   "metadata": {},
   "outputs": [
    {
     "data": {
      "text/html": [
       "<div>\n",
       "<style scoped>\n",
       "    .dataframe tbody tr th:only-of-type {\n",
       "        vertical-align: middle;\n",
       "    }\n",
       "\n",
       "    .dataframe tbody tr th {\n",
       "        vertical-align: top;\n",
       "    }\n",
       "\n",
       "    .dataframe thead th {\n",
       "        text-align: right;\n",
       "    }\n",
       "</style>\n",
       "<table border=\"1\" class=\"dataframe\">\n",
       "  <thead>\n",
       "    <tr style=\"text-align: right;\">\n",
       "      <th></th>\n",
       "      <th>Image</th>\n",
       "      <th>Is it a logo?</th>\n",
       "      <th>Score esthéthique (0-10)</th>\n",
       "      <th>Score business (0-10)</th>\n",
       "    </tr>\n",
       "  </thead>\n",
       "  <tbody>\n",
       "    <tr>\n",
       "      <th>0</th>\n",
       "      <td>D8 Lhotte v3_00001_</td>\n",
       "      <td>0</td>\n",
       "      <td>5</td>\n",
       "      <td>2</td>\n",
       "    </tr>\n",
       "    <tr>\n",
       "      <th>1</th>\n",
       "      <td>Sd15 Lhotte v3_00019_</td>\n",
       "      <td>0</td>\n",
       "      <td>7</td>\n",
       "      <td>3</td>\n",
       "    </tr>\n",
       "  </tbody>\n",
       "</table>\n",
       "</div>"
      ],
      "text/plain": [
       "                   Image  Is it a logo?  Score esthéthique (0-10)  \\\n",
       "0    D8 Lhotte v3_00001_              0                         5   \n",
       "1  Sd15 Lhotte v3_00019_              0                         7   \n",
       "\n",
       "   Score business (0-10)  \n",
       "0                      2  \n",
       "1                      3  "
      ]
     },
     "execution_count": 26,
     "metadata": {},
     "output_type": "execute_result"
    }
   ],
   "source": [
    "# df: pd.Dataframe = pd.read_csv('Logo Stable Diffusion Test.csv', delimiter=\";\")\n",
    "df: pd.Dataframe = pd.read_csv('Data.csv')\n",
    "bool_mapping: dict = {'Oui': 1, 'Non': 0}\n",
    "df['Is it a logo?'] = df['Is it a logo?'].apply(lambda x: bool_mapping[x])\n",
    "df.head(2)"
   ]
  },
  {
   "cell_type": "code",
   "execution_count": 27,
   "metadata": {},
   "outputs": [
    {
     "data": {
      "text/html": [
       "<div>\n",
       "<style scoped>\n",
       "    .dataframe tbody tr th:only-of-type {\n",
       "        vertical-align: middle;\n",
       "    }\n",
       "\n",
       "    .dataframe tbody tr th {\n",
       "        vertical-align: top;\n",
       "    }\n",
       "\n",
       "    .dataframe thead th {\n",
       "        text-align: right;\n",
       "    }\n",
       "</style>\n",
       "<table border=\"1\" class=\"dataframe\">\n",
       "  <thead>\n",
       "    <tr style=\"text-align: right;\">\n",
       "      <th></th>\n",
       "      <th>Image</th>\n",
       "      <th>Is it a logo?</th>\n",
       "      <th>Score esthéthique (0-10)</th>\n",
       "      <th>Score business (0-10)</th>\n",
       "      <th>Model</th>\n",
       "    </tr>\n",
       "  </thead>\n",
       "  <tbody>\n",
       "    <tr>\n",
       "      <th>0</th>\n",
       "      <td>D8 Lhotte v3_00001_</td>\n",
       "      <td>0</td>\n",
       "      <td>5</td>\n",
       "      <td>2</td>\n",
       "      <td>Lhotte-v3 LoRA - Dreamshaper v8</td>\n",
       "    </tr>\n",
       "    <tr>\n",
       "      <th>1</th>\n",
       "      <td>Sd15 Lhotte v3_00019_</td>\n",
       "      <td>0</td>\n",
       "      <td>7</td>\n",
       "      <td>3</td>\n",
       "      <td>Lhotte-v3 LoRA - Stable Diffusion pruned 1.5</td>\n",
       "    </tr>\n",
       "  </tbody>\n",
       "</table>\n",
       "</div>"
      ],
      "text/plain": [
       "                   Image  Is it a logo?  Score esthéthique (0-10)  \\\n",
       "0    D8 Lhotte v3_00001_              0                         5   \n",
       "1  Sd15 Lhotte v3_00019_              0                         7   \n",
       "\n",
       "   Score business (0-10)                                         Model  \n",
       "0                      2               Lhotte-v3 LoRA - Dreamshaper v8  \n",
       "1                      3  Lhotte-v3 LoRA - Stable Diffusion pruned 1.5  "
      ]
     },
     "execution_count": 27,
     "metadata": {},
     "output_type": "execute_result"
    }
   ],
   "source": [
    "pattern_to_category_mapping: dict = {\n",
    "    'D8 Lhotte': 'Lhotte-v3 LoRA - Dreamshaper v8',\n",
    "    'Sd15 Lhotte': 'Lhotte-v3 LoRA - Stable Diffusion pruned 1.5',\n",
    "    'D8 RedmondV2': 'RedmondV2 LoRA - Dreamshaper v8',\n",
    "    'Sd15 RedmondV2': 'RedmondV2 LoRA - Stable Diffusion pruned 1.5',\n",
    "    'LEDITS': \"LEDITS++\"\n",
    "}\n",
    "def categorize(filename: str) -> str:\n",
    "    for pattern, category in pattern_to_category_mapping.items():\n",
    "        if pattern in filename:\n",
    "            return category\n",
    "    return 'Uknown'\n",
    "\n",
    "df['Model'] = df['Image'].apply(categorize)\n",
    "df.head(2)"
   ]
  },
  {
   "cell_type": "code",
   "execution_count": 28,
   "metadata": {},
   "outputs": [
    {
     "data": {
      "text/plain": [
       "Model\n",
       "Lhotte-v3 LoRA - Dreamshaper v8                 24\n",
       "Lhotte-v3 LoRA - Stable Diffusion pruned 1.5    24\n",
       "RedmondV2 LoRA - Stable Diffusion pruned 1.5    24\n",
       "RedmondV2 LoRA - Dreamshaper v8                 24\n",
       "LEDITS++                                        24\n",
       "Name: count, dtype: int64"
      ]
     },
     "execution_count": 28,
     "metadata": {},
     "output_type": "execute_result"
    }
   ],
   "source": [
    "df['Model'].value_counts()"
   ]
  },
  {
   "cell_type": "markdown",
   "metadata": {},
   "source": [
    "## I.2 - Visualisation"
   ]
  },
  {
   "cell_type": "markdown",
   "metadata": {},
   "source": [
    "### I.2.1 - Confusion matrix"
   ]
  },
  {
   "cell_type": "markdown",
   "metadata": {},
   "source": [
    "\n",
    "<div class=\"alert alert-block alert-info\">In this part, we are trying to plot the <b>pseudo-accuracy</b> of each model in a <b>confusion matrix</b>, using the human annotations of the column 'Is it a logo?'. In other words, we interpret human perception (whether an image aligns with the general impression of a logo) as the 'truth' labels for a classification problem.\n",
    "</div>"
   ]
  },
  {
   "cell_type": "code",
   "execution_count": 29,
   "metadata": {},
   "outputs": [
    {
     "data": {
      "image/png": "[encoded data removed]",
      "text/plain": [
       "<Figure size 600x500 with 2 Axes>"
      ]
     },
     "metadata": {},
     "output_type": "display_data"
    }
   ],
   "source": [
    "conf_matrix = df.groupby(['Model', 'Is it a logo?']).size().unstack(fill_value=0)\n",
    "\n",
    "plt.figure(figsize=(6, 5))\n",
    "sns.heatmap(conf_matrix, annot=True, fmt='d', cmap='Blues', linewidths=0.5)\n",
    "plt.xlabel('Logo Score (0 = Not a logo, 1 = Logo)', fontfamily='serif', fontsize=12)\n",
    "plt.ylabel('Model', fontfamily='serif', fontsize=12)\n",
    "plt.yticks(fontsize=8, wrap=True)\n",
    "plt.title('Confusion Matrix of Human Logo Annotations per Model', fontfamily='serif', fontsize=14, loc='center', wrap=True)\n",
    "plt.show()"
   ]
  },
  {
   "cell_type": "code",
   "execution_count": 37,
   "metadata": {},
   "outputs": [
    {
     "data": {
      "image/png": "[encoded data removed]",
      "text/plain": [
       "<Figure size 800x1250 with 5 Axes>"
      ]
     },
     "metadata": {},
     "output_type": "display_data"
    }
   ],
   "source": [
    "conf_matrix = df.groupby(['Model', 'Score business (0-10)']).size().unstack(fill_value=0)\n",
    "models = conf_matrix.index\n",
    "\n",
    "fig, axes = plt.subplots(nrows=len(models), ncols=1, figsize=(8, 2.5 * len(models)), sharex=True)\n",
    "for ax, model in zip(axes, models):\n",
    "    conf_matrix.loc[model].plot(kind='bar', color='darkblue', edgecolor='black', ax=ax)\n",
    "    ax.set_title(f'Business score for model: {model}', fontfamily='serif', fontsize=12)\n",
    "    ax.set_ylabel('Count', fontfamily='serif', fontsize=10)\n",
    "    ax.grid(axis='y', linestyle='--', alpha=0.3)\n",
    "    ax.set_xticks(range(len(conf_matrix.columns)))\n",
    "    ax.set_xticklabels(conf_matrix.columns, rotation=0, fontsize=10)  \n",
    "plt.tight_layout(rect=[0, 0.05, 1, 1])  \n",
    "plt.show()\n"
   ]
  },
  {
   "cell_type": "code",
   "execution_count": 38,
   "metadata": {},
   "outputs": [
    {
     "data": {
      "image/png": "[encoded data removed]",
      "text/plain": [
       "<Figure size 800x1250 with 5 Axes>"
      ]
     },
     "metadata": {},
     "output_type": "display_data"
    }
   ],
   "source": [
    "conf_matrix = df.groupby(['Model', 'Score esthéthique (0-10)']).size().unstack(fill_value=0)\n",
    "models = conf_matrix.index\n",
    "\n",
    "\n",
    "fig, axes = plt.subplots(nrows=len(models), ncols=1, figsize=(8, 2.5 * len(models)), sharex=True)\n",
    "for ax, model in zip(axes, models):\n",
    "    conf_matrix.loc[model].plot(kind='bar', color='darkblue', edgecolor='black', ax=ax)\n",
    "    ax.set_title(f'Aesthetic Score distribution for model: {model}', fontfamily='serif', fontsize=12)\n",
    "    ax.set_ylabel('Count', fontfamily='serif', fontsize=10)\n",
    "    ax.grid(axis='y', linestyle='--', alpha=0.3)\n",
    "    ax.set_xticks(range(len(conf_matrix.columns)))\n",
    "    ax.set_xticklabels(conf_matrix.columns, rotation=0, fontsize=10)  \n",
    "\n",
    "plt.tight_layout(rect=[0, 0.05, 1, 1])  \n",
    "plt.show()"
   ]
  },
  {
   "cell_type": "code",
   "execution_count": 36,
   "metadata": {},
   "outputs": [
    {
     "data": {
      "text/plain": [
       "<Figure size 600x500 with 0 Axes>"
      ]
     },
     "metadata": {},
     "output_type": "display_data"
    },
    {
     "data": {
      "image/png": "[encoded data removed]",
      "text/plain": [
       "<Figure size 1000x600 with 1 Axes>"
      ]
     },
     "metadata": {},
     "output_type": "display_data"
    }
   ],
   "source": [
    "conf_matrix = df.groupby(['Model', 'Score business (0-10)']).size().unstack(fill_value=0)\n",
    "\n",
    "# Plotting the grouped bar chart\n",
    "plt.figure(figsize=(6, 5))\n",
    "conf_matrix.T.plot(kind='bar', stacked=False, figsize=(10, 6), colormap='Blues', edgecolor='black')\n",
    "\n",
    "plt.xlabel('Score business (0-10)', fontfamily='serif', fontsize=12)\n",
    "plt.ylabel('Count', fontfamily='serif', fontsize=12)\n",
    "plt.xticks(rotation=0, fontsize=10)\n",
    "plt.yticks(fontsize=10)\n",
    "plt.legend(title='Model', bbox_to_anchor=(1, 1))\n",
    "plt.title('Distribution of business scores per model', fontfamily='serif', fontsize=14)\n",
    "plt.grid(axis='y', linestyle='--', alpha=0.5)\n",
    "plt.show()"
   ]
  },
  {
   "cell_type": "code",
   "execution_count": 33,
   "metadata": {},
   "outputs": [
    {
     "data": {
      "text/plain": [
       "<Figure size 600x500 with 0 Axes>"
      ]
     },
     "metadata": {},
     "output_type": "display_data"
    },
    {
     "data": {
      "image/png": "[encoded data removed]",
      "text/plain": [
       "<Figure size 1000x600 with 1 Axes>"
      ]
     },
     "metadata": {},
     "output_type": "display_data"
    }
   ],
   "source": [
    "conf_matrix = df.groupby(['Model', 'Score esthéthique (0-10)']).size().unstack(fill_value=0)\n",
    "\n",
    "# Plotting the grouped bar chart\n",
    "plt.figure(figsize=(6, 5))\n",
    "conf_matrix.T.plot(kind='bar', stacked=False, figsize=(10, 6), colormap='Blues', edgecolor='black')\n",
    "\n",
    "plt.xlabel('Aesthetic Score (0-10)', fontfamily='serif', fontsize=12)\n",
    "plt.ylabel('Count', fontfamily='serif', fontsize=12)\n",
    "plt.xticks(rotation=0, fontsize=10)\n",
    "plt.yticks(fontsize=10)\n",
    "plt.legend(title='Model', bbox_to_anchor=(1, 1))\n",
    "plt.title('Distribution of aesthetic scores per model', fontfamily='serif', fontsize=14)\n",
    "plt.grid(axis='y', linestyle='--', alpha=0.5)\n",
    "plt.show()"
   ]
  },
  {
   "cell_type": "markdown",
   "metadata": {},
   "source": [
    "# II - GPT-4o Score"
   ]
  },
  {
   "cell_type": "markdown",
   "metadata": {},
   "source": [
    "<div class='alert alert-block alert-info'>Use of gpt-4o using the formula used in litterature : 𝑺_𝑳𝑳𝑴=𝟎,𝟒 ∗𝑺_𝒂𝒄𝒄+𝟎,𝟑 ∗ 𝑺_𝒑𝒓𝒆+𝟎,𝟐∗𝑺_𝒒𝒖𝒂+𝟎,𝟏∗𝑺_𝒓𝒆𝒂𝒍</div>"
   ]
  },
  {
   "cell_type": "code",
   "execution_count": 10,
   "metadata": {},
   "outputs": [
    {
     "data": {
      "text/html": [
       "<div>\n",
       "<style scoped>\n",
       "    .dataframe tbody tr th:only-of-type {\n",
       "        vertical-align: middle;\n",
       "    }\n",
       "\n",
       "    .dataframe tbody tr th {\n",
       "        vertical-align: top;\n",
       "    }\n",
       "\n",
       "    .dataframe thead th {\n",
       "        text-align: right;\n",
       "    }\n",
       "</style>\n",
       "<table border=\"1\" class=\"dataframe\">\n",
       "  <thead>\n",
       "    <tr style=\"text-align: right;\">\n",
       "      <th></th>\n",
       "      <th>Image Name</th>\n",
       "      <th>S_acc</th>\n",
       "      <th>S_pre</th>\n",
       "      <th>S_real</th>\n",
       "      <th>S_LLM</th>\n",
       "    </tr>\n",
       "  </thead>\n",
       "  <tbody>\n",
       "    <tr>\n",
       "      <th>0</th>\n",
       "      <td>best_00001.png</td>\n",
       "      <td>0.887988</td>\n",
       "      <td>0.812648</td>\n",
       "      <td>0.841521</td>\n",
       "      <td>0.883142</td>\n",
       "    </tr>\n",
       "    <tr>\n",
       "      <th>1</th>\n",
       "      <td>best_00009_.png</td>\n",
       "      <td>0.814461</td>\n",
       "      <td>0.665661</td>\n",
       "      <td>0.958941</td>\n",
       "      <td>0.821377</td>\n",
       "    </tr>\n",
       "    <tr>\n",
       "      <th>2</th>\n",
       "      <td>best_00013_.png</td>\n",
       "      <td>0.798146</td>\n",
       "      <td>0.968754</td>\n",
       "      <td>0.968244</td>\n",
       "      <td>0.906709</td>\n",
       "    </tr>\n",
       "    <tr>\n",
       "      <th>3</th>\n",
       "      <td>best_00016_.png</td>\n",
       "      <td>0.905635</td>\n",
       "      <td>0.857895</td>\n",
       "      <td>0.806411</td>\n",
       "      <td>0.900264</td>\n",
       "    </tr>\n",
       "    <tr>\n",
       "      <th>4</th>\n",
       "      <td>best_00017_.png</td>\n",
       "      <td>0.763197</td>\n",
       "      <td>0.905924</td>\n",
       "      <td>0.812215</td>\n",
       "      <td>0.858277</td>\n",
       "    </tr>\n",
       "    <tr>\n",
       "      <th>...</th>\n",
       "      <td>...</td>\n",
       "      <td>...</td>\n",
       "      <td>...</td>\n",
       "      <td>...</td>\n",
       "      <td>...</td>\n",
       "    </tr>\n",
       "    <tr>\n",
       "      <th>140</th>\n",
       "      <td>Sd15 RedmondV2_00020_.png</td>\n",
       "      <td>0.938623</td>\n",
       "      <td>0.870834</td>\n",
       "      <td>0.909575</td>\n",
       "      <td>0.871298</td>\n",
       "    </tr>\n",
       "    <tr>\n",
       "      <th>141</th>\n",
       "      <td>Sd15 RedmondV2_00021_.png</td>\n",
       "      <td>0.801308</td>\n",
       "      <td>0.739503</td>\n",
       "      <td>0.822374</td>\n",
       "      <td>0.824611</td>\n",
       "    </tr>\n",
       "    <tr>\n",
       "      <th>142</th>\n",
       "      <td>Sd15 RedmondV2_00022_.png</td>\n",
       "      <td>0.928026</td>\n",
       "      <td>0.606464</td>\n",
       "      <td>0.874388</td>\n",
       "      <td>0.840588</td>\n",
       "    </tr>\n",
       "    <tr>\n",
       "      <th>143</th>\n",
       "      <td>Sd15 RedmondV2_00023_.png</td>\n",
       "      <td>0.985108</td>\n",
       "      <td>0.937547</td>\n",
       "      <td>0.955276</td>\n",
       "      <td>0.939614</td>\n",
       "    </tr>\n",
       "    <tr>\n",
       "      <th>144</th>\n",
       "      <td>Sd15 RedmondV2_00024_.png</td>\n",
       "      <td>0.826091</td>\n",
       "      <td>0.805683</td>\n",
       "      <td>0.941217</td>\n",
       "      <td>0.866263</td>\n",
       "    </tr>\n",
       "  </tbody>\n",
       "</table>\n",
       "<p>145 rows × 5 columns</p>\n",
       "</div>"
      ],
      "text/plain": [
       "                    Image Name     S_acc     S_pre    S_real     S_LLM\n",
       "0               best_00001.png  0.887988  0.812648  0.841521  0.883142\n",
       "1              best_00009_.png  0.814461  0.665661  0.958941  0.821377\n",
       "2              best_00013_.png  0.798146  0.968754  0.968244  0.906709\n",
       "3              best_00016_.png  0.905635  0.857895  0.806411  0.900264\n",
       "4              best_00017_.png  0.763197  0.905924  0.812215  0.858277\n",
       "..                         ...       ...       ...       ...       ...\n",
       "140  Sd15 RedmondV2_00020_.png  0.938623  0.870834  0.909575  0.871298\n",
       "141  Sd15 RedmondV2_00021_.png  0.801308  0.739503  0.822374  0.824611\n",
       "142  Sd15 RedmondV2_00022_.png  0.928026  0.606464  0.874388  0.840588\n",
       "143  Sd15 RedmondV2_00023_.png  0.985108  0.937547  0.955276  0.939614\n",
       "144  Sd15 RedmondV2_00024_.png  0.826091  0.805683  0.941217  0.866263\n",
       "\n",
       "[145 rows x 5 columns]"
      ]
     },
     "execution_count": 10,
     "metadata": {},
     "output_type": "execute_result"
    }
   ],
   "source": [
    "df_gpt = pd.read_csv('LLM_Score_Evaluation_Results.csv', delimiter=';')\n",
    "df_gpt = df_gpt.drop(columns=['S_qua'])\n",
    "df_gpt"
   ]
  },
  {
   "cell_type": "code",
   "execution_count": 15,
   "metadata": {},
   "outputs": [
    {
     "data": {
      "text/plain": [
       "array([[<Axes: title={'center': 'S_acc'}>,\n",
       "        <Axes: title={'center': 'S_pre'}>],\n",
       "       [<Axes: title={'center': 'S_real'}>,\n",
       "        <Axes: title={'center': 'S_LLM'}>]], dtype=object)"
      ]
     },
     "execution_count": 15,
     "metadata": {},
     "output_type": "execute_result"
    },
    {
     "data": {
      "image/png": "[encoded data removed]",
      "text/plain": [
       "<Figure size 1200x800 with 4 Axes>"
      ]
     },
     "metadata": {},
     "output_type": "display_data"
    }
   ],
   "source": [
    "df_gpt.hist(figsize=(12,8), bins=50)"
   ]
  },
  {
   "cell_type": "code",
   "execution_count": 28,
   "metadata": {},
   "outputs": [
    {
     "name": "stderr",
     "output_type": "stream",
     "text": [
      "C:\\Users\\Louis\\AppData\\Local\\Temp\\ipykernel_8408\\2005820768.py:10: FutureWarning: \n",
      "\n",
      "Passing `palette` without assigning `hue` is deprecated and will be removed in v0.14.0. Assign the `x` variable to `hue` and set `legend=False` for the same effect.\n",
      "\n",
      "  sns.boxplot(x=\"Prefix\", y=\"S_LLM\", data=df_gpt, palette='Blues', order=mean_scores[\"Prefix\"])\n"
     ]
    },
    {
     "data": {
      "image/png": "[encoded data removed]",
      "text/plain": [
       "<Figure size 1200x600 with 1 Axes>"
      ]
     },
     "metadata": {},
     "output_type": "display_data"
    }
   ],
   "source": [
    "import matplotlib.pyplot as plt\n",
    "import seaborn as sns\n",
    "\n",
    "# Extract prefix from image names (characters before the first '_')\n",
    "df_gpt[\"Prefix\"] = df_gpt[\"Image Name\"].apply(lambda x: x.split('_')[0].split('-')[0])\n",
    "mean_scores = df_gpt.groupby(\"Prefix\")[\"S_LLM\"].mean().reset_index()\n",
    "mean_scores = mean_scores.sort_values(by=\"S_LLM\", ascending=False)\n",
    "# Plot distribution of S_LLM scores by prefix\n",
    "plt.figure(figsize=(12, 6))\n",
    "sns.boxplot(x=\"Prefix\", y=\"S_LLM\", data=df_gpt, palette='Blues', order=mean_scores[\"Prefix\"])\n",
    "plt.xticks(rotation=45)\n",
    "plt.xlabel(\"Image Prefix\", fontname='serif')\n",
    "plt.ylabel(\"S_LLM Score\", fontname='serif')\n",
    "plt.title(\"Distribution of S_LLM Scores by Image Prefix\", fontname='serif')\n",
    "plt.grid(axis='y', linestyle='--', alpha=0.7)\n",
    "plt.show()"
   ]
  },
  {
   "cell_type": "markdown",
   "metadata": {},
   "source": [
    "# III - CLIP Score"
   ]
  },
  {
   "cell_type": "code",
   "execution_count": 4,
   "metadata": {},
   "outputs": [],
   "source": [
    "import torch\n",
    "import clip\n",
    "from PIL import Image\n",
    "import pandas as pd\n",
    "import os"
   ]
  },
  {
   "cell_type": "code",
   "execution_count": 2,
   "metadata": {},
   "outputs": [],
   "source": [
    "device = \"cuda\" if torch.cuda.is_available() else \"cpu\"\n",
    "model, preprocess = clip.load(\"ViT-B/32\", device=device)\n",
    "\n",
    "image_folder = \"C:\\\\Users\\\\Louis\\\\Desktop\\\\img\\\\\"\n",
    "prompt = \"logo, logo for a business company, minimalist\"\n",
    "\n",
    "image_files = [f for f in os.listdir(image_folder) if f.lower().endswith(('.png', '.jpg', '.jpeg'))]\n",
    "images = [preprocess(Image.open(os.path.join(image_folder, img))).unsqueeze(0).to(device) for img in image_files]\n",
    "text = clip.tokenize([prompt]).to(device)\n",
    "scores = []"
   ]
  },
  {
   "cell_type": "code",
   "execution_count": 3,
   "metadata": {},
   "outputs": [
    {
     "name": "stderr",
     "output_type": "stream",
     "text": [
      "c:\\Users\\Louis\\AppData\\Local\\Programs\\Python\\Python311\\Lib\\site-packages\\torch\\nn\\functional.py:5560: UserWarning: 1Torch was not compiled with flash attention. (Triggered internally at C:\\actions-runner\\_work\\pytorch\\pytorch\\builder\\windows\\pytorch\\aten\\src\\ATen\\native\\transformers\\cuda\\sdp_utils.cpp:555.)\n",
      "  attn_output = scaled_dot_product_attention(q, k, v, attn_mask, dropout_p, is_causal)\n"
     ]
    },
    {
     "name": "stdout",
     "output_type": "stream",
     "text": [
      "                         image  clip_score\n",
      "0               best_00001.png   25.562500\n",
      "1              best_00009_.png   21.906250\n",
      "2              best_00013_.png   20.718750\n",
      "3              best_00016_.png   20.515625\n",
      "4              best_00017_.png   20.390625\n",
      "..                         ...         ...\n",
      "140  Sd15 RedmondV2_00020_.png   19.625000\n",
      "141  Sd15 RedmondV2_00021_.png   24.062500\n",
      "142  Sd15 RedmondV2_00022_.png   25.015625\n",
      "143  Sd15 RedmondV2_00023_.png   22.140625\n",
      "144  Sd15 RedmondV2_00024_.png   25.812500\n",
      "\n",
      "[145 rows x 2 columns]\n"
     ]
    }
   ],
   "source": [
    "with torch.no_grad():\n",
    "    text_features = model.encode_text(text)\n",
    "    for img_tensor in images:\n",
    "        image_features = model.encode_image(img_tensor)\n",
    "        similarity = (image_features @ text_features.T).squeeze().item()\n",
    "        scores.append(similarity)\n",
    "\n",
    "df = pd.DataFrame({\"image\": image_files, \"clip_score\": scores})\n",
    "print(df)"
   ]
  },
  {
   "cell_type": "code",
   "execution_count": 8,
   "metadata": {},
   "outputs": [
    {
     "data": {
      "text/html": [
       "<div>\n",
       "<style scoped>\n",
       "    .dataframe tbody tr th:only-of-type {\n",
       "        vertical-align: middle;\n",
       "    }\n",
       "\n",
       "    .dataframe tbody tr th {\n",
       "        vertical-align: top;\n",
       "    }\n",
       "\n",
       "    .dataframe thead th {\n",
       "        text-align: right;\n",
       "    }\n",
       "</style>\n",
       "<table border=\"1\" class=\"dataframe\">\n",
       "  <thead>\n",
       "    <tr style=\"text-align: right;\">\n",
       "      <th></th>\n",
       "      <th>image</th>\n",
       "      <th>clip_score</th>\n",
       "      <th>Model</th>\n",
       "      <th>clip_score_norm</th>\n",
       "    </tr>\n",
       "  </thead>\n",
       "  <tbody>\n",
       "    <tr>\n",
       "      <th>0</th>\n",
       "      <td>best_00001.png</td>\n",
       "      <td>25.562500</td>\n",
       "      <td>Lhotte-v3 LoRA + D8 (pruned)</td>\n",
       "      <td>0.938073</td>\n",
       "    </tr>\n",
       "    <tr>\n",
       "      <th>1</th>\n",
       "      <td>best_00009_.png</td>\n",
       "      <td>21.906250</td>\n",
       "      <td>Lhotte-v3 LoRA + D8 (pruned)</td>\n",
       "      <td>0.803899</td>\n",
       "    </tr>\n",
       "    <tr>\n",
       "      <th>2</th>\n",
       "      <td>best_00013_.png</td>\n",
       "      <td>20.718750</td>\n",
       "      <td>Lhotte-v3 LoRA + D8 (pruned)</td>\n",
       "      <td>0.760321</td>\n",
       "    </tr>\n",
       "    <tr>\n",
       "      <th>3</th>\n",
       "      <td>best_00016_.png</td>\n",
       "      <td>20.515625</td>\n",
       "      <td>Lhotte-v3 LoRA + D8 (pruned)</td>\n",
       "      <td>0.752867</td>\n",
       "    </tr>\n",
       "    <tr>\n",
       "      <th>4</th>\n",
       "      <td>best_00017_.png</td>\n",
       "      <td>20.390625</td>\n",
       "      <td>Lhotte-v3 LoRA + D8 (pruned)</td>\n",
       "      <td>0.748280</td>\n",
       "    </tr>\n",
       "    <tr>\n",
       "      <th>...</th>\n",
       "      <td>...</td>\n",
       "      <td>...</td>\n",
       "      <td>...</td>\n",
       "      <td>...</td>\n",
       "    </tr>\n",
       "    <tr>\n",
       "      <th>140</th>\n",
       "      <td>Sd15 RedmondV2_00020_.png</td>\n",
       "      <td>19.625000</td>\n",
       "      <td>RedmondV2 LoRA - SD1.5</td>\n",
       "      <td>0.720183</td>\n",
       "    </tr>\n",
       "    <tr>\n",
       "      <th>141</th>\n",
       "      <td>Sd15 RedmondV2_00021_.png</td>\n",
       "      <td>24.062500</td>\n",
       "      <td>RedmondV2 LoRA - SD1.5</td>\n",
       "      <td>0.883028</td>\n",
       "    </tr>\n",
       "    <tr>\n",
       "      <th>142</th>\n",
       "      <td>Sd15 RedmondV2_00022_.png</td>\n",
       "      <td>25.015625</td>\n",
       "      <td>RedmondV2 LoRA - SD1.5</td>\n",
       "      <td>0.918005</td>\n",
       "    </tr>\n",
       "    <tr>\n",
       "      <th>143</th>\n",
       "      <td>Sd15 RedmondV2_00023_.png</td>\n",
       "      <td>22.140625</td>\n",
       "      <td>RedmondV2 LoRA - SD1.5</td>\n",
       "      <td>0.812500</td>\n",
       "    </tr>\n",
       "    <tr>\n",
       "      <th>144</th>\n",
       "      <td>Sd15 RedmondV2_00024_.png</td>\n",
       "      <td>25.812500</td>\n",
       "      <td>RedmondV2 LoRA - SD1.5</td>\n",
       "      <td>0.947248</td>\n",
       "    </tr>\n",
       "  </tbody>\n",
       "</table>\n",
       "<p>145 rows × 4 columns</p>\n",
       "</div>"
      ],
      "text/plain": [
       "                         image  clip_score                         Model  \\\n",
       "0               best_00001.png   25.562500  Lhotte-v3 LoRA + D8 (pruned)   \n",
       "1              best_00009_.png   21.906250  Lhotte-v3 LoRA + D8 (pruned)   \n",
       "2              best_00013_.png   20.718750  Lhotte-v3 LoRA + D8 (pruned)   \n",
       "3              best_00016_.png   20.515625  Lhotte-v3 LoRA + D8 (pruned)   \n",
       "4              best_00017_.png   20.390625  Lhotte-v3 LoRA + D8 (pruned)   \n",
       "..                         ...         ...                           ...   \n",
       "140  Sd15 RedmondV2_00020_.png   19.625000        RedmondV2 LoRA - SD1.5   \n",
       "141  Sd15 RedmondV2_00021_.png   24.062500        RedmondV2 LoRA - SD1.5   \n",
       "142  Sd15 RedmondV2_00022_.png   25.015625        RedmondV2 LoRA - SD1.5   \n",
       "143  Sd15 RedmondV2_00023_.png   22.140625        RedmondV2 LoRA - SD1.5   \n",
       "144  Sd15 RedmondV2_00024_.png   25.812500        RedmondV2 LoRA - SD1.5   \n",
       "\n",
       "     clip_score_norm  \n",
       "0           0.938073  \n",
       "1           0.803899  \n",
       "2           0.760321  \n",
       "3           0.752867  \n",
       "4           0.748280  \n",
       "..               ...  \n",
       "140         0.720183  \n",
       "141         0.883028  \n",
       "142         0.918005  \n",
       "143         0.812500  \n",
       "144         0.947248  \n",
       "\n",
       "[145 rows x 4 columns]"
      ]
     },
     "execution_count": 8,
     "metadata": {},
     "output_type": "execute_result"
    }
   ],
   "source": [
    "pattern_to_category_mapping: dict = {\n",
    "    'D8 Lhotte': 'Lhotte-v3 LoRA - D8',\n",
    "    'Sd15 Lhotte': 'Lhotte-v3 LoRA - SD1.5',\n",
    "    'D8 RedmondV2': 'RedmondV2 LoRA - D8',\n",
    "    'Sd15 RedmondV2': 'RedmondV2 LoRA - SD1.5',\n",
    "    'LEDITS': \"LEDITS++\",\n",
    "    \"best\": \"Lhotte-v3 LoRA + D8 (pruned)\"\n",
    "}\n",
    "def categorize(filename: str) -> str:\n",
    "    for pattern, category in pattern_to_category_mapping.items():\n",
    "        if pattern in filename:\n",
    "            return category\n",
    "    return 'Uknown'\n",
    "\n",
    "df['Model'] = df['image'].apply(categorize)\n",
    "df"
   ]
  },
  {
   "cell_type": "code",
   "execution_count": 27,
   "metadata": {},
   "outputs": [
    {
     "name": "stderr",
     "output_type": "stream",
     "text": [
      "C:\\Users\\Louis\\AppData\\Local\\Temp\\ipykernel_1436\\1688427553.py:4: FutureWarning:\n",
      "\n",
      "The default of observed=False is deprecated and will be changed to True in a future version of pandas. Pass observed=False to retain current behavior or observed=True to adopt the future default and silence this warning.\n",
      "\n"
     ]
    },
    {
     "data": {
      "application/vnd.plotly.v1+json": {
       "config": {
        "plotlyServerURL": "https://plot.ly"
       },
       "data": [
        {
         "alignmentgroup": "True",
         "hovertemplate": "Model=%{x}<br>Normalized Mean CLIP Score=%{marker.color}<extra></extra>",
         "legendgroup": "",
         "marker": {
          "color": [
           0.854262232415902,
           0.8234633027522936,
           0.8217220948012233,
           0.7640003822629969,
           0.7521980122324159,
           0.7361788035168195
          ],
          "coloraxis": "coloraxis",
          "pattern": {
           "shape": ""
          }
         },
         "name": "",
         "offsetgroup": "",
         "orientation": "v",
         "showlegend": false,
         "text": [
          0.854262232415902,
          0.8234633027522936,
          0.8217220948012233,
          0.7640003822629969,
          0.7521980122324159,
          0.7361788035168195
         ],
         "textposition": "outside",
         "texttemplate": "%{text:.2f}",
         "type": "bar",
         "x": [
          "LEDITS++",
          "Lhotte-v3 LoRA - SD1.5",
          "RedmondV2 LoRA - SD1.5",
          "RedmondV2 LoRA - D8",
          "Lhotte-v3 LoRA - D8",
          "Lhotte-v3 LoRA + D8 (pruned)"
         ],
         "xaxis": "x",
         "y": [
          0.854262232415902,
          0.8234633027522936,
          0.8217220948012233,
          0.7640003822629969,
          0.7521980122324159,
          0.7361788035168195
         ],
         "yaxis": "y"
        }
       ],
       "layout": {
        "barmode": "relative",
        "coloraxis": {
         "colorbar": {
          "title": {
           "text": "Normalized Mean CLIP Score"
          }
         },
         "colorscale": [
          [
           0,
           "#440154"
          ],
          [
           0.1111111111111111,
           "#482878"
          ],
          [
           0.2222222222222222,
           "#3e4989"
          ],
          [
           0.3333333333333333,
           "#31688e"
          ],
          [
           0.4444444444444444,
           "#26828e"
          ],
          [
           0.5555555555555556,
           "#1f9e89"
          ],
          [
           0.6666666666666666,
           "#35b779"
          ],
          [
           0.7777777777777778,
           "#6ece58"
          ],
          [
           0.8888888888888888,
           "#b5de2b"
          ],
          [
           1,
           "#fde725"
          ]
         ],
         "showscale": true
        },
        "font": {
         "family": "Serif"
        },
        "legend": {
         "tracegroupgap": 0
        },
        "template": {
         "data": {
          "bar": [
           {
            "error_x": {
             "color": "rgb(36,36,36)"
            },
            "error_y": {
             "color": "rgb(36,36,36)"
            },
            "marker": {
             "line": {
              "color": "white",
              "width": 0.5
             },
             "pattern": {
              "fillmode": "overlay",
              "size": 10,
              "solidity": 0.2
             }
            },
            "type": "bar"
           }
          ],
          "barpolar": [
           {
            "marker": {
             "line": {
              "color": "white",
              "width": 0.5
             },
             "pattern": {
              "fillmode": "overlay",
              "size": 10,
              "solidity": 0.2
             }
            },
            "type": "barpolar"
           }
          ],
          "carpet": [
           {
            "aaxis": {
             "endlinecolor": "rgb(36,36,36)",
             "gridcolor": "white",
             "linecolor": "white",
             "minorgridcolor": "white",
             "startlinecolor": "rgb(36,36,36)"
            },
            "baxis": {
             "endlinecolor": "rgb(36,36,36)",
             "gridcolor": "white",
             "linecolor": "white",
             "minorgridcolor": "white",
             "startlinecolor": "rgb(36,36,36)"
            },
            "type": "carpet"
           }
          ],
          "choropleth": [
           {
            "colorbar": {
             "outlinewidth": 1,
             "tickcolor": "rgb(36,36,36)",
             "ticks": "outside"
            },
            "type": "choropleth"
           }
          ],
          "contour": [
           {
            "colorbar": {
             "outlinewidth": 1,
             "tickcolor": "rgb(36,36,36)",
             "ticks": "outside"
            },
            "colorscale": [
             [
              0,
              "#440154"
             ],
             [
              0.1111111111111111,
              "#482878"
             ],
             [
              0.2222222222222222,
              "#3e4989"
             ],
             [
              0.3333333333333333,
              "#31688e"
             ],
             [
              0.4444444444444444,
              "#26828e"
             ],
             [
              0.5555555555555556,
              "#1f9e89"
             ],
             [
              0.6666666666666666,
              "#35b779"
             ],
             [
              0.7777777777777778,
              "#6ece58"
             ],
             [
              0.8888888888888888,
              "#b5de2b"
             ],
             [
              1,
              "#fde725"
             ]
            ],
            "type": "contour"
           }
          ],
          "contourcarpet": [
           {
            "colorbar": {
             "outlinewidth": 1,
             "tickcolor": "rgb(36,36,36)",
             "ticks": "outside"
            },
            "type": "contourcarpet"
           }
          ],
          "heatmap": [
           {
            "colorbar": {
             "outlinewidth": 1,
             "tickcolor": "rgb(36,36,36)",
             "ticks": "outside"
            },
            "colorscale": [
             [
              0,
              "#440154"
             ],
             [
              0.1111111111111111,
              "#482878"
             ],
             [
              0.2222222222222222,
              "#3e4989"
             ],
             [
              0.3333333333333333,
              "#31688e"
             ],
             [
              0.4444444444444444,
              "#26828e"
             ],
             [
              0.5555555555555556,
              "#1f9e89"
             ],
             [
              0.6666666666666666,
              "#35b779"
             ],
             [
              0.7777777777777778,
              "#6ece58"
             ],
             [
              0.8888888888888888,
              "#b5de2b"
             ],
             [
              1,
              "#fde725"
             ]
            ],
            "type": "heatmap"
           }
          ],
          "heatmapgl": [
           {
            "colorbar": {
             "outlinewidth": 1,
             "tickcolor": "rgb(36,36,36)",
             "ticks": "outside"
            },
            "colorscale": [
             [
              0,
              "#440154"
             ],
             [
              0.1111111111111111,
              "#482878"
             ],
             [
              0.2222222222222222,
              "#3e4989"
             ],
             [
              0.3333333333333333,
              "#31688e"
             ],
             [
              0.4444444444444444,
              "#26828e"
             ],
             [
              0.5555555555555556,
              "#1f9e89"
             ],
             [
              0.6666666666666666,
              "#35b779"
             ],
             [
              0.7777777777777778,
              "#6ece58"
             ],
             [
              0.8888888888888888,
              "#b5de2b"
             ],
             [
              1,
              "#fde725"
             ]
            ],
            "type": "heatmapgl"
           }
          ],
          "histogram": [
           {
            "marker": {
             "line": {
              "color": "white",
              "width": 0.6
             }
            },
            "type": "histogram"
           }
          ],
          "histogram2d": [
           {
            "colorbar": {
             "outlinewidth": 1,
             "tickcolor": "rgb(36,36,36)",
             "ticks": "outside"
            },
            "colorscale": [
             [
              0,
              "#440154"
             ],
             [
              0.1111111111111111,
              "#482878"
             ],
             [
              0.2222222222222222,
              "#3e4989"
             ],
             [
              0.3333333333333333,
              "#31688e"
             ],
             [
              0.4444444444444444,
              "#26828e"
             ],
             [
              0.5555555555555556,
              "#1f9e89"
             ],
             [
              0.6666666666666666,
              "#35b779"
             ],
             [
              0.7777777777777778,
              "#6ece58"
             ],
             [
              0.8888888888888888,
              "#b5de2b"
             ],
             [
              1,
              "#fde725"
             ]
            ],
            "type": "histogram2d"
           }
          ],
          "histogram2dcontour": [
           {
            "colorbar": {
             "outlinewidth": 1,
             "tickcolor": "rgb(36,36,36)",
             "ticks": "outside"
            },
            "colorscale": [
             [
              0,
              "#440154"
             ],
             [
              0.1111111111111111,
              "#482878"
             ],
             [
              0.2222222222222222,
              "#3e4989"
             ],
             [
              0.3333333333333333,
              "#31688e"
             ],
             [
              0.4444444444444444,
              "#26828e"
             ],
             [
              0.5555555555555556,
              "#1f9e89"
             ],
             [
              0.6666666666666666,
              "#35b779"
             ],
             [
              0.7777777777777778,
              "#6ece58"
             ],
             [
              0.8888888888888888,
              "#b5de2b"
             ],
             [
              1,
              "#fde725"
             ]
            ],
            "type": "histogram2dcontour"
           }
          ],
          "mesh3d": [
           {
            "colorbar": {
             "outlinewidth": 1,
             "tickcolor": "rgb(36,36,36)",
             "ticks": "outside"
            },
            "type": "mesh3d"
           }
          ],
          "parcoords": [
           {
            "line": {
             "colorbar": {
              "outlinewidth": 1,
              "tickcolor": "rgb(36,36,36)",
              "ticks": "outside"
             }
            },
            "type": "parcoords"
           }
          ],
          "pie": [
           {
            "automargin": true,
            "type": "pie"
           }
          ],
          "scatter": [
           {
            "fillpattern": {
             "fillmode": "overlay",
             "size": 10,
             "solidity": 0.2
            },
            "type": "scatter"
           }
          ],
          "scatter3d": [
           {
            "line": {
             "colorbar": {
              "outlinewidth": 1,
              "tickcolor": "rgb(36,36,36)",
              "ticks": "outside"
             }
            },
            "marker": {
             "colorbar": {
              "outlinewidth": 1,
              "tickcolor": "rgb(36,36,36)",
              "ticks": "outside"
             }
            },
            "type": "scatter3d"
           }
          ],
          "scattercarpet": [
           {
            "marker": {
             "colorbar": {
              "outlinewidth": 1,
              "tickcolor": "rgb(36,36,36)",
              "ticks": "outside"
             }
            },
            "type": "scattercarpet"
           }
          ],
          "scattergeo": [
           {
            "marker": {
             "colorbar": {
              "outlinewidth": 1,
              "tickcolor": "rgb(36,36,36)",
              "ticks": "outside"
             }
            },
            "type": "scattergeo"
           }
          ],
          "scattergl": [
           {
            "marker": {
             "colorbar": {
              "outlinewidth": 1,
              "tickcolor": "rgb(36,36,36)",
              "ticks": "outside"
             }
            },
            "type": "scattergl"
           }
          ],
          "scattermapbox": [
           {
            "marker": {
             "colorbar": {
              "outlinewidth": 1,
              "tickcolor": "rgb(36,36,36)",
              "ticks": "outside"
             }
            },
            "type": "scattermapbox"
           }
          ],
          "scatterpolar": [
           {
            "marker": {
             "colorbar": {
              "outlinewidth": 1,
              "tickcolor": "rgb(36,36,36)",
              "ticks": "outside"
             }
            },
            "type": "scatterpolar"
           }
          ],
          "scatterpolargl": [
           {
            "marker": {
             "colorbar": {
              "outlinewidth": 1,
              "tickcolor": "rgb(36,36,36)",
              "ticks": "outside"
             }
            },
            "type": "scatterpolargl"
           }
          ],
          "scatterternary": [
           {
            "marker": {
             "colorbar": {
              "outlinewidth": 1,
              "tickcolor": "rgb(36,36,36)",
              "ticks": "outside"
             }
            },
            "type": "scatterternary"
           }
          ],
          "surface": [
           {
            "colorbar": {
             "outlinewidth": 1,
             "tickcolor": "rgb(36,36,36)",
             "ticks": "outside"
            },
            "colorscale": [
             [
              0,
              "#440154"
             ],
             [
              0.1111111111111111,
              "#482878"
             ],
             [
              0.2222222222222222,
              "#3e4989"
             ],
             [
              0.3333333333333333,
              "#31688e"
             ],
             [
              0.4444444444444444,
              "#26828e"
             ],
             [
              0.5555555555555556,
              "#1f9e89"
             ],
             [
              0.6666666666666666,
              "#35b779"
             ],
             [
              0.7777777777777778,
              "#6ece58"
             ],
             [
              0.8888888888888888,
              "#b5de2b"
             ],
             [
              1,
              "#fde725"
             ]
            ],
            "type": "surface"
           }
          ],
          "table": [
           {
            "cells": {
             "fill": {
              "color": "rgb(237,237,237)"
             },
             "line": {
              "color": "white"
             }
            },
            "header": {
             "fill": {
              "color": "rgb(217,217,217)"
             },
             "line": {
              "color": "white"
             }
            },
            "type": "table"
           }
          ]
         },
         "layout": {
          "annotationdefaults": {
           "arrowhead": 0,
           "arrowwidth": 1
          },
          "autotypenumbers": "strict",
          "coloraxis": {
           "colorbar": {
            "outlinewidth": 1,
            "tickcolor": "rgb(36,36,36)",
            "ticks": "outside"
           }
          },
          "colorscale": {
           "diverging": [
            [
             0,
             "rgb(103,0,31)"
            ],
            [
             0.1,
             "rgb(178,24,43)"
            ],
            [
             0.2,
             "rgb(214,96,77)"
            ],
            [
             0.3,
             "rgb(244,165,130)"
            ],
            [
             0.4,
             "rgb(253,219,199)"
            ],
            [
             0.5,
             "rgb(247,247,247)"
            ],
            [
             0.6,
             "rgb(209,229,240)"
            ],
            [
             0.7,
             "rgb(146,197,222)"
            ],
            [
             0.8,
             "rgb(67,147,195)"
            ],
            [
             0.9,
             "rgb(33,102,172)"
            ],
            [
             1,
             "rgb(5,48,97)"
            ]
           ],
           "sequential": [
            [
             0,
             "#440154"
            ],
            [
             0.1111111111111111,
             "#482878"
            ],
            [
             0.2222222222222222,
             "#3e4989"
            ],
            [
             0.3333333333333333,
             "#31688e"
            ],
            [
             0.4444444444444444,
             "#26828e"
            ],
            [
             0.5555555555555556,
             "#1f9e89"
            ],
            [
             0.6666666666666666,
             "#35b779"
            ],
            [
             0.7777777777777778,
             "#6ece58"
            ],
            [
             0.8888888888888888,
             "#b5de2b"
            ],
            [
             1,
             "#fde725"
            ]
           ],
           "sequentialminus": [
            [
             0,
             "#440154"
            ],
            [
             0.1111111111111111,
             "#482878"
            ],
            [
             0.2222222222222222,
             "#3e4989"
            ],
            [
             0.3333333333333333,
             "#31688e"
            ],
            [
             0.4444444444444444,
             "#26828e"
            ],
            [
             0.5555555555555556,
             "#1f9e89"
            ],
            [
             0.6666666666666666,
             "#35b779"
            ],
            [
             0.7777777777777778,
             "#6ece58"
            ],
            [
             0.8888888888888888,
             "#b5de2b"
            ],
            [
             1,
             "#fde725"
            ]
           ]
          },
          "colorway": [
           "#1F77B4",
           "#FF7F0E",
           "#2CA02C",
           "#D62728",
           "#9467BD",
           "#8C564B",
           "#E377C2",
           "#7F7F7F",
           "#BCBD22",
           "#17BECF"
          ],
          "font": {
           "color": "rgb(36,36,36)"
          },
          "geo": {
           "bgcolor": "white",
           "lakecolor": "white",
           "landcolor": "white",
           "showlakes": true,
           "showland": true,
           "subunitcolor": "white"
          },
          "hoverlabel": {
           "align": "left"
          },
          "hovermode": "closest",
          "mapbox": {
           "style": "light"
          },
          "paper_bgcolor": "white",
          "plot_bgcolor": "white",
          "polar": {
           "angularaxis": {
            "gridcolor": "rgb(232,232,232)",
            "linecolor": "rgb(36,36,36)",
            "showgrid": false,
            "showline": true,
            "ticks": "outside"
           },
           "bgcolor": "white",
           "radialaxis": {
            "gridcolor": "rgb(232,232,232)",
            "linecolor": "rgb(36,36,36)",
            "showgrid": false,
            "showline": true,
            "ticks": "outside"
           }
          },
          "scene": {
           "xaxis": {
            "backgroundcolor": "white",
            "gridcolor": "rgb(232,232,232)",
            "gridwidth": 2,
            "linecolor": "rgb(36,36,36)",
            "showbackground": true,
            "showgrid": false,
            "showline": true,
            "ticks": "outside",
            "zeroline": false,
            "zerolinecolor": "rgb(36,36,36)"
           },
           "yaxis": {
            "backgroundcolor": "white",
            "gridcolor": "rgb(232,232,232)",
            "gridwidth": 2,
            "linecolor": "rgb(36,36,36)",
            "showbackground": true,
            "showgrid": false,
            "showline": true,
            "ticks": "outside",
            "zeroline": false,
            "zerolinecolor": "rgb(36,36,36)"
           },
           "zaxis": {
            "backgroundcolor": "white",
            "gridcolor": "rgb(232,232,232)",
            "gridwidth": 2,
            "linecolor": "rgb(36,36,36)",
            "showbackground": true,
            "showgrid": false,
            "showline": true,
            "ticks": "outside",
            "zeroline": false,
            "zerolinecolor": "rgb(36,36,36)"
           }
          },
          "shapedefaults": {
           "fillcolor": "black",
           "line": {
            "width": 0
           },
           "opacity": 0.3
          },
          "ternary": {
           "aaxis": {
            "gridcolor": "rgb(232,232,232)",
            "linecolor": "rgb(36,36,36)",
            "showgrid": false,
            "showline": true,
            "ticks": "outside"
           },
           "baxis": {
            "gridcolor": "rgb(232,232,232)",
            "linecolor": "rgb(36,36,36)",
            "showgrid": false,
            "showline": true,
            "ticks": "outside"
           },
           "bgcolor": "white",
           "caxis": {
            "gridcolor": "rgb(232,232,232)",
            "linecolor": "rgb(36,36,36)",
            "showgrid": false,
            "showline": true,
            "ticks": "outside"
           }
          },
          "title": {
           "x": 0.05
          },
          "xaxis": {
           "automargin": true,
           "gridcolor": "rgb(232,232,232)",
           "linecolor": "rgb(36,36,36)",
           "showgrid": false,
           "showline": true,
           "ticks": "outside",
           "title": {
            "standoff": 15
           },
           "zeroline": false,
           "zerolinecolor": "rgb(36,36,36)"
          },
          "yaxis": {
           "automargin": true,
           "gridcolor": "rgb(232,232,232)",
           "linecolor": "rgb(36,36,36)",
           "showgrid": false,
           "showline": true,
           "ticks": "outside",
           "title": {
            "standoff": 15
           },
           "zeroline": false,
           "zerolinecolor": "rgb(36,36,36)"
          }
         }
        },
        "title": {
         "text": "Normalized Mean CLIP Score by Model",
         "x": 0.5
        },
        "uniformtext": {
         "minsize": 8,
         "mode": "hide"
        },
        "xaxis": {
         "anchor": "y",
         "domain": [
          0,
          1
         ],
         "title": {
          "text": "Model Category"
         }
        },
        "yaxis": {
         "anchor": "x",
         "domain": [
          0,
          1
         ],
         "title": {
          "text": "Normalized CLIP Score (Mean)"
         }
        }
       }
      }
     },
     "metadata": {},
     "output_type": "display_data"
    }
   ],
   "source": [
    "import plotly.express as px\n",
    "\n",
    "df['clip_score_norm'] = df['clip_score'] / df['clip_score'].max()\n",
    "grouped = df.groupby('Model')['clip_score_norm'].mean().reset_index()\n",
    "grouped = grouped.sort_values(by='clip_score_norm', ascending=False)\n",
    "\n",
    "fig = px.bar(grouped,\n",
    "             x='Model',\n",
    "             y='clip_score_norm',\n",
    "             text='clip_score_norm',\n",
    "             title='Normalized Mean CLIP Score by Model',\n",
    "             labels={'clip_score_norm': 'Normalized Mean CLIP Score'},\n",
    "             template='simple_white',\n",
    "             color='clip_score_norm',\n",
    "             color_continuous_scale='Viridis')\n",
    "\n",
    "fig.update_traces(texttemplate='%{text:.2f}', textposition='outside')\n",
    "fig.update_layout(\n",
    "    font_family='Serif',\n",
    "    xaxis_title='Model Category',\n",
    "    yaxis_title='Normalized CLIP Score (Mean)',\n",
    "    title_x=0.5,\n",
    "    uniformtext_minsize=8,\n",
    "    uniformtext_mode='hide',\n",
    "    coloraxis_showscale=True\n",
    ")\n",
    "fig.show()"
   ]
  },
  {
   "cell_type": "code",
   "execution_count": 24,
   "metadata": {},
   "outputs": [
    {
     "name": "stderr",
     "output_type": "stream",
     "text": [
      "C:\\Users\\Louis\\AppData\\Local\\Temp\\ipykernel_1436\\3028388774.py:4: FutureWarning:\n",
      "\n",
      "The default of observed=False is deprecated and will be changed to True in a future version of pandas. Pass observed=False to retain current behavior or observed=True to adopt the future default and silence this warning.\n",
      "\n"
     ]
    },
    {
     "data": {
      "application/vnd.plotly.v1+json": {
       "config": {
        "plotlyServerURL": "https://plot.ly"
       },
       "data": [
        {
         "alignmentgroup": "True",
         "box": {
          "visible": true
         },
         "hovertemplate": "Model_sorted=%{x}<br>clip_score_norm=%{y}<extra></extra>",
         "legendgroup": "LEDITS++",
         "marker": {
          "color": "#440154"
         },
         "name": "LEDITS++",
         "offsetgroup": "LEDITS++",
         "orientation": "v",
         "points": "all",
         "scalegroup": "True",
         "showlegend": true,
         "type": "violin",
         "x": [
          "LEDITS++",
          "LEDITS++",
          "LEDITS++",
          "LEDITS++",
          "LEDITS++",
          "LEDITS++",
          "LEDITS++",
          "LEDITS++",
          "LEDITS++",
          "LEDITS++",
          "LEDITS++",
          "LEDITS++",
          "LEDITS++",
          "LEDITS++",
          "LEDITS++",
          "LEDITS++",
          "LEDITS++",
          "LEDITS++",
          "LEDITS++",
          "LEDITS++",
          "LEDITS++",
          "LEDITS++",
          "LEDITS++",
          "LEDITS++"
         ],
         "x0": " ",
         "xaxis": "x",
         "y": [
          0.9111238532110092,
          0.8056192660550459,
          0.908256880733945,
          0.9271788990825688,
          0.8038990825688074,
          0.7614678899082569,
          0.9260321100917431,
          0.7368119266055045,
          0.875,
          0.8004587155963303,
          0.9478211009174312,
          0.9375,
          0.8285550458715596,
          0.8612385321100917,
          0.7666284403669725,
          0.9059633027522935,
          0.8239678899082569,
          0.779243119266055,
          0.8182339449541285,
          0.8715596330275229,
          1,
          0.775802752293578,
          0.8394495412844036,
          0.8904816513761468
         ],
         "y0": " ",
         "yaxis": "y"
        },
        {
         "alignmentgroup": "True",
         "box": {
          "visible": true
         },
         "hovertemplate": "Model_sorted=%{x}<br>clip_score_norm=%{y}<extra></extra>",
         "legendgroup": "Lhotte-v3 LoRA - SD1.5",
         "marker": {
          "color": "#482878"
         },
         "name": "Lhotte-v3 LoRA - SD1.5",
         "offsetgroup": "Lhotte-v3 LoRA - SD1.5",
         "orientation": "v",
         "points": "all",
         "scalegroup": "True",
         "showlegend": true,
         "type": "violin",
         "x": [
          "Lhotte-v3 LoRA - SD1.5",
          "Lhotte-v3 LoRA - SD1.5",
          "Lhotte-v3 LoRA - SD1.5",
          "Lhotte-v3 LoRA - SD1.5",
          "Lhotte-v3 LoRA - SD1.5",
          "Lhotte-v3 LoRA - SD1.5",
          "Lhotte-v3 LoRA - SD1.5",
          "Lhotte-v3 LoRA - SD1.5",
          "Lhotte-v3 LoRA - SD1.5",
          "Lhotte-v3 LoRA - SD1.5",
          "Lhotte-v3 LoRA - SD1.5",
          "Lhotte-v3 LoRA - SD1.5",
          "Lhotte-v3 LoRA - SD1.5",
          "Lhotte-v3 LoRA - SD1.5",
          "Lhotte-v3 LoRA - SD1.5",
          "Lhotte-v3 LoRA - SD1.5",
          "Lhotte-v3 LoRA - SD1.5",
          "Lhotte-v3 LoRA - SD1.5",
          "Lhotte-v3 LoRA - SD1.5",
          "Lhotte-v3 LoRA - SD1.5",
          "Lhotte-v3 LoRA - SD1.5",
          "Lhotte-v3 LoRA - SD1.5",
          "Lhotte-v3 LoRA - SD1.5",
          "Lhotte-v3 LoRA - SD1.5",
          "Lhotte-v3 LoRA - SD1.5"
         ],
         "x0": " ",
         "xaxis": "x",
         "y": [
          0.805045871559633,
          0.8440366972477065,
          0.742545871559633,
          0.8130733944954128,
          0.8767201834862385,
          0.8589449541284404,
          0.7247706422018348,
          0.9248853211009175,
          0.8663990825688074,
          0.9535550458715596,
          0.7947247706422018,
          0.8881880733944955,
          0.7373853211009175,
          0.8612385321100917,
          0.7419724770642202,
          0.930045871559633,
          0.9162844036697247,
          0.8079128440366973,
          0.7603211009174312,
          0.6880733944954128,
          0.9002293577981652,
          0.7895642201834863,
          0.6771788990825688,
          0.8623853211009175,
          0.8211009174311926
         ],
         "y0": " ",
         "yaxis": "y"
        },
        {
         "alignmentgroup": "True",
         "box": {
          "visible": true
         },
         "hovertemplate": "Model_sorted=%{x}<br>clip_score_norm=%{y}<extra></extra>",
         "legendgroup": "RedmondV2 LoRA - SD1.5",
         "marker": {
          "color": "#3e4989"
         },
         "name": "RedmondV2 LoRA - SD1.5",
         "offsetgroup": "RedmondV2 LoRA - SD1.5",
         "orientation": "v",
         "points": "all",
         "scalegroup": "True",
         "showlegend": true,
         "type": "violin",
         "x": [
          "RedmondV2 LoRA - SD1.5",
          "RedmondV2 LoRA - SD1.5",
          "RedmondV2 LoRA - SD1.5",
          "RedmondV2 LoRA - SD1.5",
          "RedmondV2 LoRA - SD1.5",
          "RedmondV2 LoRA - SD1.5",
          "RedmondV2 LoRA - SD1.5",
          "RedmondV2 LoRA - SD1.5",
          "RedmondV2 LoRA - SD1.5",
          "RedmondV2 LoRA - SD1.5",
          "RedmondV2 LoRA - SD1.5",
          "RedmondV2 LoRA - SD1.5",
          "RedmondV2 LoRA - SD1.5",
          "RedmondV2 LoRA - SD1.5",
          "RedmondV2 LoRA - SD1.5",
          "RedmondV2 LoRA - SD1.5",
          "RedmondV2 LoRA - SD1.5",
          "RedmondV2 LoRA - SD1.5",
          "RedmondV2 LoRA - SD1.5",
          "RedmondV2 LoRA - SD1.5",
          "RedmondV2 LoRA - SD1.5",
          "RedmondV2 LoRA - SD1.5",
          "RedmondV2 LoRA - SD1.5",
          "RedmondV2 LoRA - SD1.5"
         ],
         "x0": " ",
         "xaxis": "x",
         "y": [
          0.9369266055045872,
          0.8405963302752294,
          0.6697247706422018,
          0.643348623853211,
          0.8881880733944955,
          0.7494266055045872,
          0.713302752293578,
          0.8893348623853211,
          0.8967889908256881,
          0.882454128440367,
          0.7373853211009175,
          0.7918577981651376,
          0.7614678899082569,
          0.8956422018348624,
          0.6903669724770642,
          0.8950688073394495,
          0.856651376146789,
          0.8944954128440367,
          0.8073394495412844,
          0.7201834862385321,
          0.8830275229357798,
          0.9180045871559633,
          0.8125,
          0.9472477064220184
         ],
         "y0": " ",
         "yaxis": "y"
        },
        {
         "alignmentgroup": "True",
         "box": {
          "visible": true
         },
         "hovertemplate": "Model_sorted=%{x}<br>clip_score_norm=%{y}<extra></extra>",
         "legendgroup": "RedmondV2 LoRA - D8",
         "marker": {
          "color": "#31688e"
         },
         "name": "RedmondV2 LoRA - D8",
         "offsetgroup": "RedmondV2 LoRA - D8",
         "orientation": "v",
         "points": "all",
         "scalegroup": "True",
         "showlegend": true,
         "type": "violin",
         "x": [
          "RedmondV2 LoRA - D8",
          "RedmondV2 LoRA - D8",
          "RedmondV2 LoRA - D8",
          "RedmondV2 LoRA - D8",
          "RedmondV2 LoRA - D8",
          "RedmondV2 LoRA - D8",
          "RedmondV2 LoRA - D8",
          "RedmondV2 LoRA - D8",
          "RedmondV2 LoRA - D8",
          "RedmondV2 LoRA - D8",
          "RedmondV2 LoRA - D8",
          "RedmondV2 LoRA - D8",
          "RedmondV2 LoRA - D8",
          "RedmondV2 LoRA - D8",
          "RedmondV2 LoRA - D8",
          "RedmondV2 LoRA - D8",
          "RedmondV2 LoRA - D8",
          "RedmondV2 LoRA - D8",
          "RedmondV2 LoRA - D8",
          "RedmondV2 LoRA - D8",
          "RedmondV2 LoRA - D8",
          "RedmondV2 LoRA - D8",
          "RedmondV2 LoRA - D8",
          "RedmondV2 LoRA - D8"
         ],
         "x0": " ",
         "xaxis": "x",
         "y": [
          0.7740825688073395,
          0.7998853211009175,
          0.6943807339449541,
          0.8182339449541285,
          0.8004587155963303,
          0.7431192660550459,
          0.6639908256880734,
          0.7482798165137615,
          0.7201834862385321,
          0.9340596330275229,
          0.6863532110091743,
          0.867545871559633,
          0.7419724770642202,
          0.7471330275229358,
          0.7299311926605505,
          0.8853211009174312,
          0.720756880733945,
          0.8623853211009175,
          0.7150229357798165,
          0.7689220183486238,
          0.7643348623853211,
          0.6313073394495413,
          0.6840596330275229,
          0.8342889908256881
         ],
         "y0": " ",
         "yaxis": "y"
        },
        {
         "alignmentgroup": "True",
         "box": {
          "visible": true
         },
         "hovertemplate": "Model_sorted=%{x}<br>clip_score_norm=%{y}<extra></extra>",
         "legendgroup": "Lhotte-v3 LoRA - D8",
         "marker": {
          "color": "#26828e"
         },
         "name": "Lhotte-v3 LoRA - D8",
         "offsetgroup": "Lhotte-v3 LoRA - D8",
         "orientation": "v",
         "points": "all",
         "scalegroup": "True",
         "showlegend": true,
         "type": "violin",
         "x": [
          "Lhotte-v3 LoRA - D8",
          "Lhotte-v3 LoRA - D8",
          "Lhotte-v3 LoRA - D8",
          "Lhotte-v3 LoRA - D8",
          "Lhotte-v3 LoRA - D8",
          "Lhotte-v3 LoRA - D8",
          "Lhotte-v3 LoRA - D8",
          "Lhotte-v3 LoRA - D8",
          "Lhotte-v3 LoRA - D8",
          "Lhotte-v3 LoRA - D8",
          "Lhotte-v3 LoRA - D8",
          "Lhotte-v3 LoRA - D8",
          "Lhotte-v3 LoRA - D8",
          "Lhotte-v3 LoRA - D8",
          "Lhotte-v3 LoRA - D8",
          "Lhotte-v3 LoRA - D8",
          "Lhotte-v3 LoRA - D8",
          "Lhotte-v3 LoRA - D8",
          "Lhotte-v3 LoRA - D8",
          "Lhotte-v3 LoRA - D8",
          "Lhotte-v3 LoRA - D8",
          "Lhotte-v3 LoRA - D8",
          "Lhotte-v3 LoRA - D8",
          "Lhotte-v3 LoRA - D8"
         ],
         "x0": " ",
         "xaxis": "x",
         "y": [
          0.7138761467889908,
          0.7350917431192661,
          0.6702981651376146,
          0.8262614678899083,
          0.7477064220183486,
          0.7092889908256881,
          0.716743119266055,
          0.7654816513761468,
          0.8801605504587156,
          0.7654816513761468,
          0.6748853211009175,
          0.8916284403669725,
          0.8474770642201835,
          0.8113532110091743,
          0.7236238532110092,
          0.7872706422018348,
          0.6875,
          0.7752293577981652,
          0.7184633027522935,
          0.7173165137614679,
          0.7505733944954128,
          0.739105504587156,
          0.6926605504587156,
          0.7052752293577982
         ],
         "y0": " ",
         "yaxis": "y"
        },
        {
         "alignmentgroup": "True",
         "box": {
          "visible": true
         },
         "hovertemplate": "Model_sorted=%{x}<br>clip_score_norm=%{y}<extra></extra>",
         "legendgroup": "Lhotte-v3 LoRA + D8 (pruned)",
         "marker": {
          "color": "#1f9e89"
         },
         "name": "Lhotte-v3 LoRA + D8 (pruned)",
         "offsetgroup": "Lhotte-v3 LoRA + D8 (pruned)",
         "orientation": "v",
         "points": "all",
         "scalegroup": "True",
         "showlegend": true,
         "type": "violin",
         "x": [
          "Lhotte-v3 LoRA + D8 (pruned)",
          "Lhotte-v3 LoRA + D8 (pruned)",
          "Lhotte-v3 LoRA + D8 (pruned)",
          "Lhotte-v3 LoRA + D8 (pruned)",
          "Lhotte-v3 LoRA + D8 (pruned)",
          "Lhotte-v3 LoRA + D8 (pruned)",
          "Lhotte-v3 LoRA + D8 (pruned)",
          "Lhotte-v3 LoRA + D8 (pruned)",
          "Lhotte-v3 LoRA + D8 (pruned)",
          "Lhotte-v3 LoRA + D8 (pruned)",
          "Lhotte-v3 LoRA + D8 (pruned)",
          "Lhotte-v3 LoRA + D8 (pruned)",
          "Lhotte-v3 LoRA + D8 (pruned)",
          "Lhotte-v3 LoRA + D8 (pruned)",
          "Lhotte-v3 LoRA + D8 (pruned)",
          "Lhotte-v3 LoRA + D8 (pruned)",
          "Lhotte-v3 LoRA + D8 (pruned)",
          "Lhotte-v3 LoRA + D8 (pruned)",
          "Lhotte-v3 LoRA + D8 (pruned)",
          "Lhotte-v3 LoRA + D8 (pruned)",
          "Lhotte-v3 LoRA + D8 (pruned)",
          "Lhotte-v3 LoRA + D8 (pruned)",
          "Lhotte-v3 LoRA + D8 (pruned)",
          "Lhotte-v3 LoRA + D8 (pruned)"
         ],
         "x0": " ",
         "xaxis": "x",
         "y": [
          0.9380733944954128,
          0.8038990825688074,
          0.7603211009174312,
          0.7528669724770642,
          0.7482798165137615,
          0.8067660550458715,
          0.7327981651376146,
          0.8537844036697247,
          0.6525229357798165,
          0.7213302752293578,
          0.6938073394495413,
          0.6645642201834863,
          0.6834862385321101,
          0.742545871559633,
          0.7540137614678899,
          0.7505733944954128,
          0.6863532110091743,
          0.7975917431192661,
          0.8377293577981652,
          0.7786697247706422,
          0.7001146788990825,
          0.7247706422018348,
          0.5395642201834863,
          0.5438646788990825
         ],
         "y0": " ",
         "yaxis": "y"
        }
       ],
       "layout": {
        "font": {
         "family": "Serif"
        },
        "legend": {
         "title": {
          "text": "Model_sorted"
         },
         "tracegroupgap": 0
        },
        "showlegend": true,
        "template": {
         "data": {
          "bar": [
           {
            "error_x": {
             "color": "rgb(36,36,36)"
            },
            "error_y": {
             "color": "rgb(36,36,36)"
            },
            "marker": {
             "line": {
              "color": "white",
              "width": 0.5
             },
             "pattern": {
              "fillmode": "overlay",
              "size": 10,
              "solidity": 0.2
             }
            },
            "type": "bar"
           }
          ],
          "barpolar": [
           {
            "marker": {
             "line": {
              "color": "white",
              "width": 0.5
             },
             "pattern": {
              "fillmode": "overlay",
              "size": 10,
              "solidity": 0.2
             }
            },
            "type": "barpolar"
           }
          ],
          "carpet": [
           {
            "aaxis": {
             "endlinecolor": "rgb(36,36,36)",
             "gridcolor": "white",
             "linecolor": "white",
             "minorgridcolor": "white",
             "startlinecolor": "rgb(36,36,36)"
            },
            "baxis": {
             "endlinecolor": "rgb(36,36,36)",
             "gridcolor": "white",
             "linecolor": "white",
             "minorgridcolor": "white",
             "startlinecolor": "rgb(36,36,36)"
            },
            "type": "carpet"
           }
          ],
          "choropleth": [
           {
            "colorbar": {
             "outlinewidth": 1,
             "tickcolor": "rgb(36,36,36)",
             "ticks": "outside"
            },
            "type": "choropleth"
           }
          ],
          "contour": [
           {
            "colorbar": {
             "outlinewidth": 1,
             "tickcolor": "rgb(36,36,36)",
             "ticks": "outside"
            },
            "colorscale": [
             [
              0,
              "#440154"
             ],
             [
              0.1111111111111111,
              "#482878"
             ],
             [
              0.2222222222222222,
              "#3e4989"
             ],
             [
              0.3333333333333333,
              "#31688e"
             ],
             [
              0.4444444444444444,
              "#26828e"
             ],
             [
              0.5555555555555556,
              "#1f9e89"
             ],
             [
              0.6666666666666666,
              "#35b779"
             ],
             [
              0.7777777777777778,
              "#6ece58"
             ],
             [
              0.8888888888888888,
              "#b5de2b"
             ],
             [
              1,
              "#fde725"
             ]
            ],
            "type": "contour"
           }
          ],
          "contourcarpet": [
           {
            "colorbar": {
             "outlinewidth": 1,
             "tickcolor": "rgb(36,36,36)",
             "ticks": "outside"
            },
            "type": "contourcarpet"
           }
          ],
          "heatmap": [
           {
            "colorbar": {
             "outlinewidth": 1,
             "tickcolor": "rgb(36,36,36)",
             "ticks": "outside"
            },
            "colorscale": [
             [
              0,
              "#440154"
             ],
             [
              0.1111111111111111,
              "#482878"
             ],
             [
              0.2222222222222222,
              "#3e4989"
             ],
             [
              0.3333333333333333,
              "#31688e"
             ],
             [
              0.4444444444444444,
              "#26828e"
             ],
             [
              0.5555555555555556,
              "#1f9e89"
             ],
             [
              0.6666666666666666,
              "#35b779"
             ],
             [
              0.7777777777777778,
              "#6ece58"
             ],
             [
              0.8888888888888888,
              "#b5de2b"
             ],
             [
              1,
              "#fde725"
             ]
            ],
            "type": "heatmap"
           }
          ],
          "heatmapgl": [
           {
            "colorbar": {
             "outlinewidth": 1,
             "tickcolor": "rgb(36,36,36)",
             "ticks": "outside"
            },
            "colorscale": [
             [
              0,
              "#440154"
             ],
             [
              0.1111111111111111,
              "#482878"
             ],
             [
              0.2222222222222222,
              "#3e4989"
             ],
             [
              0.3333333333333333,
              "#31688e"
             ],
             [
              0.4444444444444444,
              "#26828e"
             ],
             [
              0.5555555555555556,
              "#1f9e89"
             ],
             [
              0.6666666666666666,
              "#35b779"
             ],
             [
              0.7777777777777778,
              "#6ece58"
             ],
             [
              0.8888888888888888,
              "#b5de2b"
             ],
             [
              1,
              "#fde725"
             ]
            ],
            "type": "heatmapgl"
           }
          ],
          "histogram": [
           {
            "marker": {
             "line": {
              "color": "white",
              "width": 0.6
             }
            },
            "type": "histogram"
           }
          ],
          "histogram2d": [
           {
            "colorbar": {
             "outlinewidth": 1,
             "tickcolor": "rgb(36,36,36)",
             "ticks": "outside"
            },
            "colorscale": [
             [
              0,
              "#440154"
             ],
             [
              0.1111111111111111,
              "#482878"
             ],
             [
              0.2222222222222222,
              "#3e4989"
             ],
             [
              0.3333333333333333,
              "#31688e"
             ],
             [
              0.4444444444444444,
              "#26828e"
             ],
             [
              0.5555555555555556,
              "#1f9e89"
             ],
             [
              0.6666666666666666,
              "#35b779"
             ],
             [
              0.7777777777777778,
              "#6ece58"
             ],
             [
              0.8888888888888888,
              "#b5de2b"
             ],
             [
              1,
              "#fde725"
             ]
            ],
            "type": "histogram2d"
           }
          ],
          "histogram2dcontour": [
           {
            "colorbar": {
             "outlinewidth": 1,
             "tickcolor": "rgb(36,36,36)",
             "ticks": "outside"
            },
            "colorscale": [
             [
              0,
              "#440154"
             ],
             [
              0.1111111111111111,
              "#482878"
             ],
             [
              0.2222222222222222,
              "#3e4989"
             ],
             [
              0.3333333333333333,
              "#31688e"
             ],
             [
              0.4444444444444444,
              "#26828e"
             ],
             [
              0.5555555555555556,
              "#1f9e89"
             ],
             [
              0.6666666666666666,
              "#35b779"
             ],
             [
              0.7777777777777778,
              "#6ece58"
             ],
             [
              0.8888888888888888,
              "#b5de2b"
             ],
             [
              1,
              "#fde725"
             ]
            ],
            "type": "histogram2dcontour"
           }
          ],
          "mesh3d": [
           {
            "colorbar": {
             "outlinewidth": 1,
             "tickcolor": "rgb(36,36,36)",
             "ticks": "outside"
            },
            "type": "mesh3d"
           }
          ],
          "parcoords": [
           {
            "line": {
             "colorbar": {
              "outlinewidth": 1,
              "tickcolor": "rgb(36,36,36)",
              "ticks": "outside"
             }
            },
            "type": "parcoords"
           }
          ],
          "pie": [
           {
            "automargin": true,
            "type": "pie"
           }
          ],
          "scatter": [
           {
            "fillpattern": {
             "fillmode": "overlay",
             "size": 10,
             "solidity": 0.2
            },
            "type": "scatter"
           }
          ],
          "scatter3d": [
           {
            "line": {
             "colorbar": {
              "outlinewidth": 1,
              "tickcolor": "rgb(36,36,36)",
              "ticks": "outside"
             }
            },
            "marker": {
             "colorbar": {
              "outlinewidth": 1,
              "tickcolor": "rgb(36,36,36)",
              "ticks": "outside"
             }
            },
            "type": "scatter3d"
           }
          ],
          "scattercarpet": [
           {
            "marker": {
             "colorbar": {
              "outlinewidth": 1,
              "tickcolor": "rgb(36,36,36)",
              "ticks": "outside"
             }
            },
            "type": "scattercarpet"
           }
          ],
          "scattergeo": [
           {
            "marker": {
             "colorbar": {
              "outlinewidth": 1,
              "tickcolor": "rgb(36,36,36)",
              "ticks": "outside"
             }
            },
            "type": "scattergeo"
           }
          ],
          "scattergl": [
           {
            "marker": {
             "colorbar": {
              "outlinewidth": 1,
              "tickcolor": "rgb(36,36,36)",
              "ticks": "outside"
             }
            },
            "type": "scattergl"
           }
          ],
          "scattermapbox": [
           {
            "marker": {
             "colorbar": {
              "outlinewidth": 1,
              "tickcolor": "rgb(36,36,36)",
              "ticks": "outside"
             }
            },
            "type": "scattermapbox"
           }
          ],
          "scatterpolar": [
           {
            "marker": {
             "colorbar": {
              "outlinewidth": 1,
              "tickcolor": "rgb(36,36,36)",
              "ticks": "outside"
             }
            },
            "type": "scatterpolar"
           }
          ],
          "scatterpolargl": [
           {
            "marker": {
             "colorbar": {
              "outlinewidth": 1,
              "tickcolor": "rgb(36,36,36)",
              "ticks": "outside"
             }
            },
            "type": "scatterpolargl"
           }
          ],
          "scatterternary": [
           {
            "marker": {
             "colorbar": {
              "outlinewidth": 1,
              "tickcolor": "rgb(36,36,36)",
              "ticks": "outside"
             }
            },
            "type": "scatterternary"
           }
          ],
          "surface": [
           {
            "colorbar": {
             "outlinewidth": 1,
             "tickcolor": "rgb(36,36,36)",
             "ticks": "outside"
            },
            "colorscale": [
             [
              0,
              "#440154"
             ],
             [
              0.1111111111111111,
              "#482878"
             ],
             [
              0.2222222222222222,
              "#3e4989"
             ],
             [
              0.3333333333333333,
              "#31688e"
             ],
             [
              0.4444444444444444,
              "#26828e"
             ],
             [
              0.5555555555555556,
              "#1f9e89"
             ],
             [
              0.6666666666666666,
              "#35b779"
             ],
             [
              0.7777777777777778,
              "#6ece58"
             ],
             [
              0.8888888888888888,
              "#b5de2b"
             ],
             [
              1,
              "#fde725"
             ]
            ],
            "type": "surface"
           }
          ],
          "table": [
           {
            "cells": {
             "fill": {
              "color": "rgb(237,237,237)"
             },
             "line": {
              "color": "white"
             }
            },
            "header": {
             "fill": {
              "color": "rgb(217,217,217)"
             },
             "line": {
              "color": "white"
             }
            },
            "type": "table"
           }
          ]
         },
         "layout": {
          "annotationdefaults": {
           "arrowhead": 0,
           "arrowwidth": 1
          },
          "autotypenumbers": "strict",
          "coloraxis": {
           "colorbar": {
            "outlinewidth": 1,
            "tickcolor": "rgb(36,36,36)",
            "ticks": "outside"
           }
          },
          "colorscale": {
           "diverging": [
            [
             0,
             "rgb(103,0,31)"
            ],
            [
             0.1,
             "rgb(178,24,43)"
            ],
            [
             0.2,
             "rgb(214,96,77)"
            ],
            [
             0.3,
             "rgb(244,165,130)"
            ],
            [
             0.4,
             "rgb(253,219,199)"
            ],
            [
             0.5,
             "rgb(247,247,247)"
            ],
            [
             0.6,
             "rgb(209,229,240)"
            ],
            [
             0.7,
             "rgb(146,197,222)"
            ],
            [
             0.8,
             "rgb(67,147,195)"
            ],
            [
             0.9,
             "rgb(33,102,172)"
            ],
            [
             1,
             "rgb(5,48,97)"
            ]
           ],
           "sequential": [
            [
             0,
             "#440154"
            ],
            [
             0.1111111111111111,
             "#482878"
            ],
            [
             0.2222222222222222,
             "#3e4989"
            ],
            [
             0.3333333333333333,
             "#31688e"
            ],
            [
             0.4444444444444444,
             "#26828e"
            ],
            [
             0.5555555555555556,
             "#1f9e89"
            ],
            [
             0.6666666666666666,
             "#35b779"
            ],
            [
             0.7777777777777778,
             "#6ece58"
            ],
            [
             0.8888888888888888,
             "#b5de2b"
            ],
            [
             1,
             "#fde725"
            ]
           ],
           "sequentialminus": [
            [
             0,
             "#440154"
            ],
            [
             0.1111111111111111,
             "#482878"
            ],
            [
             0.2222222222222222,
             "#3e4989"
            ],
            [
             0.3333333333333333,
             "#31688e"
            ],
            [
             0.4444444444444444,
             "#26828e"
            ],
            [
             0.5555555555555556,
             "#1f9e89"
            ],
            [
             0.6666666666666666,
             "#35b779"
            ],
            [
             0.7777777777777778,
             "#6ece58"
            ],
            [
             0.8888888888888888,
             "#b5de2b"
            ],
            [
             1,
             "#fde725"
            ]
           ]
          },
          "colorway": [
           "#1F77B4",
           "#FF7F0E",
           "#2CA02C",
           "#D62728",
           "#9467BD",
           "#8C564B",
           "#E377C2",
           "#7F7F7F",
           "#BCBD22",
           "#17BECF"
          ],
          "font": {
           "color": "rgb(36,36,36)"
          },
          "geo": {
           "bgcolor": "white",
           "lakecolor": "white",
           "landcolor": "white",
           "showlakes": true,
           "showland": true,
           "subunitcolor": "white"
          },
          "hoverlabel": {
           "align": "left"
          },
          "hovermode": "closest",
          "mapbox": {
           "style": "light"
          },
          "paper_bgcolor": "white",
          "plot_bgcolor": "white",
          "polar": {
           "angularaxis": {
            "gridcolor": "rgb(232,232,232)",
            "linecolor": "rgb(36,36,36)",
            "showgrid": false,
            "showline": true,
            "ticks": "outside"
           },
           "bgcolor": "white",
           "radialaxis": {
            "gridcolor": "rgb(232,232,232)",
            "linecolor": "rgb(36,36,36)",
            "showgrid": false,
            "showline": true,
            "ticks": "outside"
           }
          },
          "scene": {
           "xaxis": {
            "backgroundcolor": "white",
            "gridcolor": "rgb(232,232,232)",
            "gridwidth": 2,
            "linecolor": "rgb(36,36,36)",
            "showbackground": true,
            "showgrid": false,
            "showline": true,
            "ticks": "outside",
            "zeroline": false,
            "zerolinecolor": "rgb(36,36,36)"
           },
           "yaxis": {
            "backgroundcolor": "white",
            "gridcolor": "rgb(232,232,232)",
            "gridwidth": 2,
            "linecolor": "rgb(36,36,36)",
            "showbackground": true,
            "showgrid": false,
            "showline": true,
            "ticks": "outside",
            "zeroline": false,
            "zerolinecolor": "rgb(36,36,36)"
           },
           "zaxis": {
            "backgroundcolor": "white",
            "gridcolor": "rgb(232,232,232)",
            "gridwidth": 2,
            "linecolor": "rgb(36,36,36)",
            "showbackground": true,
            "showgrid": false,
            "showline": true,
            "ticks": "outside",
            "zeroline": false,
            "zerolinecolor": "rgb(36,36,36)"
           }
          },
          "shapedefaults": {
           "fillcolor": "black",
           "line": {
            "width": 0
           },
           "opacity": 0.3
          },
          "ternary": {
           "aaxis": {
            "gridcolor": "rgb(232,232,232)",
            "linecolor": "rgb(36,36,36)",
            "showgrid": false,
            "showline": true,
            "ticks": "outside"
           },
           "baxis": {
            "gridcolor": "rgb(232,232,232)",
            "linecolor": "rgb(36,36,36)",
            "showgrid": false,
            "showline": true,
            "ticks": "outside"
           },
           "bgcolor": "white",
           "caxis": {
            "gridcolor": "rgb(232,232,232)",
            "linecolor": "rgb(36,36,36)",
            "showgrid": false,
            "showline": true,
            "ticks": "outside"
           }
          },
          "title": {
           "x": 0.05
          },
          "xaxis": {
           "automargin": true,
           "gridcolor": "rgb(232,232,232)",
           "linecolor": "rgb(36,36,36)",
           "showgrid": false,
           "showline": true,
           "ticks": "outside",
           "title": {
            "standoff": 15
           },
           "zeroline": false,
           "zerolinecolor": "rgb(36,36,36)"
          },
          "yaxis": {
           "automargin": true,
           "gridcolor": "rgb(232,232,232)",
           "linecolor": "rgb(36,36,36)",
           "showgrid": false,
           "showline": true,
           "ticks": "outside",
           "title": {
            "standoff": 15
           },
           "zeroline": false,
           "zerolinecolor": "rgb(36,36,36)"
          }
         }
        },
        "title": {
         "text": "Distribution of Normalized CLIP Scores by Model",
         "x": 0.5
        },
        "violinmode": "overlay",
        "xaxis": {
         "anchor": "y",
         "categoryarray": [
          "LEDITS++",
          "Lhotte-v3 LoRA - SD1.5",
          "RedmondV2 LoRA - SD1.5",
          "RedmondV2 LoRA - D8",
          "Lhotte-v3 LoRA - D8",
          "Lhotte-v3 LoRA + D8 (pruned)"
         ],
         "categoryorder": "array",
         "domain": [
          0,
          1
         ],
         "title": {
          "text": "Model Category"
         }
        },
        "yaxis": {
         "anchor": "x",
         "domain": [
          0,
          1
         ],
         "title": {
          "text": "Normalized CLIP Score"
         }
        }
       }
      }
     },
     "metadata": {},
     "output_type": "display_data"
    }
   ],
   "source": [
    "import plotly.express as px\n",
    "\n",
    "df['clip_score_norm'] = df['clip_score'] / df['clip_score'].max()\n",
    "mean_scores = df.groupby('Model')['clip_score_norm'].mean().sort_values(ascending=False)\n",
    "\n",
    "df['Model_sorted'] = pd.Categorical(df['Model'], categories=mean_scores.index, ordered=True)\n",
    "\n",
    "fig = px.violin(df,\n",
    "                x='Model_sorted',\n",
    "                y='clip_score_norm',\n",
    "                box=True,\n",
    "                points='all',\n",
    "                color='Model_sorted',\n",
    "                category_orders={'Model_sorted': mean_scores.index.tolist()},\n",
    "                color_discrete_sequence=px.colors.sequential.Viridis,\n",
    "                title='Distribution of Normalized CLIP Scores by Model',\n",
    "                template='simple_white')\n",
    "\n",
    "fig.update_layout(\n",
    "    font_family='Serif',\n",
    "    xaxis_title='Model Category',\n",
    "    yaxis_title='Normalized CLIP Score',\n",
    "    title_x=0.5,\n",
    "    showlegend=True\n",
    ")\n",
    "fig.show()\n"
   ]
  }
 ],
 "metadata": {
  "kernelspec": {
   "display_name": "Python 3",
   "language": "python",
   "name": "python3"
  },
  "language_info": {
   "codemirror_mode": {
    "name": "ipython",
    "version": 3
   },
   "file_extension": ".py",
   "mimetype": "text/x-python",
   "name": "python",
   "nbconvert_exporter": "python",
   "pygments_lexer": "ipython3",
   "version": "3.11.7"
  }
 },
 "nbformat": 4,
 "nbformat_minor": 2
}
