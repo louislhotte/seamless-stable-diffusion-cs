{
 "cells": [
  {
   "cell_type": "markdown",
   "metadata": {},
   "source": [
    "Nous allons utiliser la méthode des kappa de Fleiss pour évaluer l'accord entre les 3 évaluateurs de notre dataset. Nous ne pouvons pas utiliser les kappa de Cohen car ils ne s'appliquent qu'à 2 évaluateurs."
   ]
  },
  {
   "cell_type": "code",
   "execution_count": 9,
   "metadata": {},
   "outputs": [],
   "source": [
    "import pandas as pd \n",
    "import numpy as np \n",
    "from scipy.stats import norm\n",
    "from statsmodels.stats.inter_rater import fleiss_kappa"
   ]
  },
  {
   "cell_type": "code",
   "execution_count": 10,
   "metadata": {},
   "outputs": [],
   "source": [
    "clement = pd.read_csv(\"Data.csv\")\n",
    "romain = pd.read_csv(\"Romain.csv\")\n",
    "tania = pd.read_csv(\"Tania.csv\")\n",
    "evaluateurs = [clement, romain, tania]"
   ]
  },
  {
   "cell_type": "code",
   "execution_count": 11,
   "metadata": {},
   "outputs": [],
   "source": [
    "for df in evaluateurs:\n",
    "    df.rename(columns={'Score esthéthique (0-10)':'Score esthétique (0-10)'}, inplace=True)\n",
    "\n",
    "# Only positive values\n",
    "for i,df in enumerate(evaluateurs):\n",
    "    df.loc[df['Score esthétique (0-10)'] < 0, 'Score esthétique (0-10)'] = 0\n",
    "    assert (df['Score esthétique (0-10)']>=0).all(), \"esthétique \" + str(i)\n",
    "    assert (df['Score business (0-10)']>=0).all(), \"business \" + str(i)"
   ]
  },
  {
   "cell_type": "code",
   "execution_count": 12,
   "metadata": {},
   "outputs": [],
   "source": [
    "# Buckets (or they will always disagree)\n",
    "# 3 buckets (0-3, 4-6, 7-10)\n",
    "bins = {0:0, 1:0, 2:0, 3:0, 4:1, 5:1, 6:1, 7:2, 8:2, 9:2, 10:2}\n",
    "for i,df in enumerate(evaluateurs):\n",
    "    df[\"Score business (0-10)\"] = df[\"Score business (0-10)\"].replace(bins)\n",
    "    df[\"Score esthétique (0-10)\"] = df[\"Score esthétique (0-10)\"].replace(bins)"
   ]
  },
  {
   "cell_type": "code",
   "execution_count": 13,
   "metadata": {},
   "outputs": [],
   "source": [
    "score_business = [[df.loc[i,\"Score business (0-10)\"] for df in [clement, romain, tania]] for i in range(len(clement))]\n",
    "score_esthetique = [[df.loc[i,\"Score esthétique (0-10)\"] for df in [clement, romain, tania]] for i in range(len(clement))]\n",
    "\n",
    "def convert(score, categories=[0,1,2]):\n",
    "    \"\"\"\n",
    "    Counts the number of votes for each category.\n",
    "    \"\"\"\n",
    "    new_score = []\n",
    "    for item in score :\n",
    "        new_score.append([len([i for i in item if i==cat]) for cat in categories])\n",
    "    return(np.array(new_score))\n",
    "\n",
    "score_business = convert(score_business)\n",
    "score_esthetique = convert(score_esthetique)"
   ]
  },
  {
   "cell_type": "code",
   "execution_count": 14,
   "metadata": {},
   "outputs": [
    {
     "name": "stdout",
     "output_type": "stream",
     "text": [
      "--- Score business ---\n",
      "Fleiss' kappa: 0.289425560941627\n",
      "Z-value: 8.962744774981424\n",
      "P-value: 0.0\n",
      "Confidence interval (95%): (0.22613427128732944, 0.3527168505959246)\n",
      "\n",
      "--- Score esthétique ---\n",
      "Fleiss' kappa: 0.22693887713183125\n",
      "Z-value: 6.773226363099416\n",
      "P-value: 1.259414794674285e-11\n",
      "Confidence interval (95%): (0.16126972597314862, 0.2926080282905139)\n"
     ]
    }
   ],
   "source": [
    "business_kappa = fleiss_kappa(score_business)\n",
    "esthetique_kappa = fleiss_kappa(score_esthetique)\n",
    "\n",
    "def affichage(score):\n",
    "    n = len(score) \n",
    "    m = len(evaluateurs) \n",
    "    \n",
    "    kappa = fleiss_kappa(score)\n",
    "    \n",
    "    # Proportion of ratings in each category\n",
    "    pi = np.sum(score, axis=0) / (n * m)\n",
    "    \n",
    "    # Expected agreement by chance\n",
    "    Pe = np.sum(pi ** 2)\n",
    "    \n",
    "    variance = (2 / (n * m * (m - 1))) * (\n",
    "        (Pe + Pe**2) - \n",
    "        np.sum(pi * np.sum((score * (score - 1)), axis=0) / (n * m * (m - 1)))\n",
    "    )\n",
    "    \n",
    "    if variance > 0:\n",
    "        z_value = kappa / np.sqrt(variance)\n",
    "        p_value = 2 * (1 - norm.cdf(np.abs(z_value)))\n",
    "        z_critical = norm.ppf(0.975)  # For 95% CI\n",
    "        margin_of_error = z_critical * np.sqrt(variance)\n",
    "        lower_bound = max(-1, kappa - margin_of_error)\n",
    "        upper_bound = min(1, kappa + margin_of_error)\n",
    "\n",
    "        print(\"Fleiss' kappa:\", kappa)\n",
    "        print(\"Z-value:\", z_value)\n",
    "        print(\"P-value:\", p_value)\n",
    "        print(\"Confidence interval (95%):\", (lower_bound, upper_bound))\n",
    "    else:\n",
    "        print(\"Fleiss' kappa:\", kappa)\n",
    "        print(\"Variance calculation error: Non-positive variance\", variance)\n",
    "    \n",
    "print(\"--- Score business ---\")\n",
    "affichage(score_business)\n",
    "print(\"\\n--- Score esthétique ---\")\n",
    "affichage(score_esthetique)"
   ]
  },
  {
   "cell_type": "code",
   "execution_count": 15,
   "metadata": {},
   "outputs": [
    {
     "name": "stdout",
     "output_type": "stream",
     "text": [
      "\n",
      "--- Score Logo ---\n",
      "Fleiss' kappa: 0.9525925925925928\n",
      "Z-value: 33.371407852262365\n",
      "P-value: 0.0\n",
      "Confidence interval (95%): (0.8966450826257771, 1)\n"
     ]
    }
   ],
   "source": [
    "score_logo = np.array([[df.loc[i,\"Is it a logo?\"] for df in [clement, romain, tania]] for i in range(len(clement))])\n",
    "score_logo = (score_logo=='Oui').astype(int)\n",
    "score_logo = convert(score_logo,categories=[0,1])\n",
    "print(\"\\n--- Score Logo ---\")\n",
    "affichage(score_logo)"
   ]
  }
 ],
 "metadata": {
  "kernelspec": {
   "display_name": "Python 3",
   "language": "python",
   "name": "python3"
  },
  "language_info": {
   "codemirror_mode": {
    "name": "ipython",
    "version": 3
   },
   "file_extension": ".py",
   "mimetype": "text/x-python",
   "name": "python",
   "nbconvert_exporter": "python",
   "pygments_lexer": "ipython3",
   "version": "3.11.2"
  }
 },
 "nbformat": 4,
 "nbformat_minor": 2
}
