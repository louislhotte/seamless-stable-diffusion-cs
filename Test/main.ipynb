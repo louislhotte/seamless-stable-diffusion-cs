{
 "cells": [
  {
   "cell_type": "markdown",
   "metadata": {},
   "source": [
    "<h1>\n",
    "<hr style=\" border:none; height:3px;\">\n",
    "<center>Evaluation pipeline</center>\n",
    "<hr style=\" border:none; height:3px;\">\n",
    "</h1>\n",
    "\n",
    "<center><img src='https://netacad.centralesupelec.fr/img/cs.jpg' width=200></center>\n",
    "\n",
    "<h4><center>Louis LHOTTE | Clément VERON | Edouard SEGUIER</center></h4>"
   ]
  },
  {
   "cell_type": "code",
   "execution_count": 10,
   "metadata": {},
   "outputs": [],
   "source": [
    "# Imports\n",
    "import torch\n",
    "from PIL import Image\n",
    "from transformers import CLIPProcessor, CLIPModel\n",
    "import os"
   ]
  },
  {
   "cell_type": "markdown",
   "metadata": {},
   "source": [
    "# I - Evaluation"
   ]
  },
  {
   "cell_type": "code",
   "execution_count": 2,
   "metadata": {},
   "outputs": [],
   "source": [
    "def evaluate_images_with_clip(image_1_path, image_2_path, prompt):\n",
    "    \"\"\"\n",
    "    Evaluate two images based on their relevance to a given text prompt using the CLIP metric.\n",
    "\n",
    "    Args:\n",
    "        image_1_path (str): Path to the first image.\n",
    "        image_2_path (str): Path to the second image.\n",
    "        prompt (str): The text prompt for evaluation.\n",
    "\n",
    "    Returns:\n",
    "        dict: A dictionary containing similarity scores for each image.\n",
    "    \"\"\"\n",
    "    model = CLIPModel.from_pretrained(\"openai/clip-vit-base-patch32\")\n",
    "    processor = CLIPProcessor.from_pretrained(\"openai/clip-vit-base-patch32\")\n",
    "\n",
    "    image_1 = Image.open(image_1_path).convert(\"RGB\")\n",
    "    image_2 = Image.open(image_2_path).convert(\"RGB\")\n",
    "    inputs = processor(text=[prompt], images=[image_1, image_2], return_tensors=\"pt\", padding=True)\n",
    "\n",
    "    outputs = model(**inputs)\n",
    "    image_embeddings = outputs.image_embeds\n",
    "    text_embeddings = outputs.text_embeds\n",
    "\n",
    "    similarity = torch.nn.functional.cosine_similarity(image_embeddings, text_embeddings)\n",
    "\n",
    "    result = {\n",
    "        \"image_1_score\": similarity[0].item(),\n",
    "        \"image_2_score\": similarity[1].item(),\n",
    "    }\n",
    "\n",
    "    return result"
   ]
  },
  {
   "cell_type": "code",
   "execution_count": 12,
   "metadata": {},
   "outputs": [
    {
     "name": "stdout",
     "output_type": "stream",
     "text": [
      "Input image: input_1.jpg, Score: 0.2334834784269333\n",
      "Output image: output_1.png, Score: 0.2928134500980377\n",
      "Delta Score: 0.05932997167110443\n"
     ]
    }
   ],
   "source": [
    "if __name__ == \"__main__\":\n",
    "    input_dir = \"input\"\n",
    "    output_dir = \"output\"\n",
    "    prompt = \"Transform this image into a clean, sharp, modern, bold 2D logo design for a mountaineering company. Integrate sharp and minimalistic design elements, the whole image should be transformed into a traditional logo\"\n",
    "\n",
    "    # Get sorted lists of images from both directories\n",
    "    input_images = sorted([f for f in os.listdir(input_dir) if os.path.isfile(os.path.join(input_dir, f))])\n",
    "    output_images = sorted([f for f in os.listdir(output_dir) if os.path.isfile(os.path.join(output_dir, f))])\n",
    "\n",
    "    if len(input_images) != len(output_images):\n",
    "        print(\"Error: Mismatch in the number of input and output images.\")\n",
    "    else:\n",
    "        for input_image, output_image in zip(input_images, output_images):\n",
    "            input_image_path = os.path.join(input_dir, input_image)\n",
    "            output_image_path = os.path.join(output_dir, output_image)\n",
    "\n",
    "            scores = evaluate_images_with_clip(input_image_path, output_image_path, prompt)\n",
    "            print(f\"Input image: {input_image}, Score: {scores['image_1_score']}\")\n",
    "            print(f\"Output image: {output_image}, Score: {scores['image_2_score']}\")\n",
    "            print(f\"Delta Score: {scores['image_2_score'] - scores['image_1_score']}\")"
   ]
  }
 ],
 "metadata": {
  "kernelspec": {
   "display_name": "Python 3",
   "language": "python",
   "name": "python3"
  },
  "language_info": {
   "codemirror_mode": {
    "name": "ipython",
    "version": 3
   },
   "file_extension": ".py",
   "mimetype": "text/x-python",
   "name": "python",
   "nbconvert_exporter": "python",
   "pygments_lexer": "ipython3",
   "version": "3.11.7"
  }
 },
 "nbformat": 4,
 "nbformat_minor": 2
}
